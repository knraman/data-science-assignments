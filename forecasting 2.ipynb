{
 "cells": [
  {
   "cell_type": "markdown",
   "id": "bd430441",
   "metadata": {},
   "source": [
    "# Forecasting Problem 2\n",
    "\n",
    "#### Task:\n",
    "\n",
    "Forecast the CocaCola prices. Prepare a document for each model explaining how many dummy variables you have created and RMSE value for each model. \n",
    "Finally which model you will use for Forecasting.\n"
   ]
  },
  {
   "cell_type": "markdown",
   "id": "61046257",
   "metadata": {},
   "source": [
    "## Steps:\n",
    "\n",
    "1. Import new data set\n",
    "    - understand the dataset, look into it. \n",
    "    - perform EDA.\n",
    "    - check data info and null values.\n",
    "    - Explore and Visualize the series\n",
    "2. Partition & Metrics \n",
    "    - Partition series\n",
    "    - Define Metrics and Predictive accuracy evaluators\n",
    "3. Apply forecasting methods\n",
    "    - Model-driven \n",
    "        - Classical Model Based\n",
    "        - Py-caret based ML models\n",
    "    - Data-driven\n",
    "        - Moving averages & EWMA\n",
    "        - Smoothing Techniques\n",
    "        - Auto Regression Models\n",
    "4. Evaluate and Compare Performance\n",
    "    - Compare RSME values of all models\n",
    "5. Implement Forecasting model\n",
    "6. Conclusion"
   ]
  },
  {
   "cell_type": "markdown",
   "id": "680ec3af",
   "metadata": {},
   "source": [
    "## Import new dataset"
   ]
  },
  {
   "cell_type": "code",
   "execution_count": 1,
   "id": "8694a918",
   "metadata": {
    "ExecuteTime": {
     "end_time": "2022-02-23T10:55:28.972983Z",
     "start_time": "2022-02-23T10:55:28.533196Z"
    }
   },
   "outputs": [],
   "source": [
    "#load the Basic libraries\n",
    "import pandas as pd\n",
    "import numpy as np\n",
    "import warnings\n",
    "warnings.filterwarnings('ignore')"
   ]
  },
  {
   "cell_type": "code",
   "execution_count": 2,
   "id": "d5856aa5",
   "metadata": {
    "ExecuteTime": {
     "end_time": "2022-02-23T10:55:30.497047Z",
     "start_time": "2022-02-23T10:55:29.575848Z"
    }
   },
   "outputs": [],
   "source": [
    "#Load visualization libraries\n",
    "import seaborn as sns\n",
    "from matplotlib import pyplot as plt\n",
    "import statsmodels.graphics.tsaplots as tsa_plots\n",
    "from matplotlib.patches import Rectangle\n",
    "%matplotlib inline"
   ]
  },
  {
   "cell_type": "code",
   "execution_count": 3,
   "id": "c95143d0",
   "metadata": {
    "ExecuteTime": {
     "end_time": "2022-02-23T10:55:31.601872Z",
     "start_time": "2022-02-23T10:55:30.927519Z"
    }
   },
   "outputs": [],
   "source": [
    "# Load Time series Libraries\n",
    "import itertools\n",
    "import statsmodels.formula.api as smf \n",
    "from sklearn.metrics import mean_squared_error\n",
    "from statsmodels.tsa.arima_model import ARIMA\n",
    "from statsmodels.tsa.seasonal import seasonal_decompose\n",
    "from statsmodels.tsa.holtwinters import SimpleExpSmoothing\n",
    "from statsmodels.tsa.holtwinters import Holt\n",
    "from statsmodels.tsa.holtwinters import ExponentialSmoothing"
   ]
  },
  {
   "cell_type": "code",
   "execution_count": 6,
   "id": "72b518bc",
   "metadata": {
    "ExecuteTime": {
     "end_time": "2022-02-23T10:55:57.869451Z",
     "start_time": "2022-02-23T10:55:57.464365Z"
    },
    "scrolled": false
   },
   "outputs": [
    {
     "data": {
      "text/html": [
       "<div>\n",
       "<style scoped>\n",
       "    .dataframe tbody tr th:only-of-type {\n",
       "        vertical-align: middle;\n",
       "    }\n",
       "\n",
       "    .dataframe tbody tr th {\n",
       "        vertical-align: top;\n",
       "    }\n",
       "\n",
       "    .dataframe thead th {\n",
       "        text-align: right;\n",
       "    }\n",
       "</style>\n",
       "<table border=\"1\" class=\"dataframe\">\n",
       "  <thead>\n",
       "    <tr style=\"text-align: right;\">\n",
       "      <th></th>\n",
       "      <th>Quarter</th>\n",
       "      <th>Sales</th>\n",
       "    </tr>\n",
       "  </thead>\n",
       "  <tbody>\n",
       "    <tr>\n",
       "      <th>0</th>\n",
       "      <td>Q1_86</td>\n",
       "      <td>1734.827000</td>\n",
       "    </tr>\n",
       "    <tr>\n",
       "      <th>1</th>\n",
       "      <td>Q2_86</td>\n",
       "      <td>2244.960999</td>\n",
       "    </tr>\n",
       "    <tr>\n",
       "      <th>2</th>\n",
       "      <td>Q3_86</td>\n",
       "      <td>2533.804993</td>\n",
       "    </tr>\n",
       "    <tr>\n",
       "      <th>3</th>\n",
       "      <td>Q4_86</td>\n",
       "      <td>2154.962997</td>\n",
       "    </tr>\n",
       "    <tr>\n",
       "      <th>4</th>\n",
       "      <td>Q1_87</td>\n",
       "      <td>1547.818996</td>\n",
       "    </tr>\n",
       "  </tbody>\n",
       "</table>\n",
       "</div>"
      ],
      "text/plain": [
       "  Quarter        Sales\n",
       "0   Q1_86  1734.827000\n",
       "1   Q2_86  2244.960999\n",
       "2   Q3_86  2533.804993\n",
       "3   Q4_86  2154.962997\n",
       "4   Q1_87  1547.818996"
      ]
     },
     "execution_count": 6,
     "metadata": {},
     "output_type": "execute_result"
    }
   ],
   "source": [
    "raw_data=pd.read_excel('/Users/sreeramkn/Downloads/CocaCola_Sales_Rawdata.xlsx')\n",
    "raw_data.head() "
   ]
  },
  {
   "cell_type": "code",
   "execution_count": 8,
   "id": "ecc7a56a",
   "metadata": {
    "ExecuteTime": {
     "end_time": "2022-02-23T10:56:06.866018Z",
     "start_time": "2022-02-23T10:56:06.850026Z"
    }
   },
   "outputs": [
    {
     "data": {
      "text/html": [
       "<div>\n",
       "<style scoped>\n",
       "    .dataframe tbody tr th:only-of-type {\n",
       "        vertical-align: middle;\n",
       "    }\n",
       "\n",
       "    .dataframe tbody tr th {\n",
       "        vertical-align: top;\n",
       "    }\n",
       "\n",
       "    .dataframe thead th {\n",
       "        text-align: right;\n",
       "    }\n",
       "</style>\n",
       "<table border=\"1\" class=\"dataframe\">\n",
       "  <thead>\n",
       "    <tr style=\"text-align: right;\">\n",
       "      <th></th>\n",
       "      <th>Quarter</th>\n",
       "      <th>Sales</th>\n",
       "    </tr>\n",
       "  </thead>\n",
       "  <tbody>\n",
       "    <tr>\n",
       "      <th>37</th>\n",
       "      <td>Q2_95</td>\n",
       "      <td>4936.0</td>\n",
       "    </tr>\n",
       "    <tr>\n",
       "      <th>38</th>\n",
       "      <td>Q3_95</td>\n",
       "      <td>4895.0</td>\n",
       "    </tr>\n",
       "    <tr>\n",
       "      <th>39</th>\n",
       "      <td>Q4_95</td>\n",
       "      <td>4333.0</td>\n",
       "    </tr>\n",
       "    <tr>\n",
       "      <th>40</th>\n",
       "      <td>Q1_96</td>\n",
       "      <td>4194.0</td>\n",
       "    </tr>\n",
       "    <tr>\n",
       "      <th>41</th>\n",
       "      <td>Q2_96</td>\n",
       "      <td>5253.0</td>\n",
       "    </tr>\n",
       "  </tbody>\n",
       "</table>\n",
       "</div>"
      ],
      "text/plain": [
       "   Quarter   Sales\n",
       "37   Q2_95  4936.0\n",
       "38   Q3_95  4895.0\n",
       "39   Q4_95  4333.0\n",
       "40   Q1_96  4194.0\n",
       "41   Q2_96  5253.0"
      ]
     },
     "execution_count": 8,
     "metadata": {},
     "output_type": "execute_result"
    }
   ],
   "source": [
    "raw_data.tail() "
   ]
  },
  {
   "cell_type": "code",
   "execution_count": 9,
   "id": "65ba21bf",
   "metadata": {
    "ExecuteTime": {
     "end_time": "2022-02-23T10:56:07.265975Z",
     "start_time": "2022-02-23T10:56:07.257979Z"
    }
   },
   "outputs": [],
   "source": [
    "data = raw_data.copy()"
   ]
  },
  {
   "cell_type": "code",
   "execution_count": 10,
   "id": "a5603e97",
   "metadata": {
    "ExecuteTime": {
     "end_time": "2022-02-23T10:56:07.754018Z",
     "start_time": "2022-02-23T10:56:07.738003Z"
    }
   },
   "outputs": [
    {
     "name": "stdout",
     "output_type": "stream",
     "text": [
      "<class 'pandas.core.frame.DataFrame'>\n",
      "RangeIndex: 42 entries, 0 to 41\n",
      "Data columns (total 2 columns):\n",
      " #   Column   Non-Null Count  Dtype  \n",
      "---  ------   --------------  -----  \n",
      " 0   Quarter  42 non-null     object \n",
      " 1   Sales    42 non-null     float64\n",
      "dtypes: float64(1), object(1)\n",
      "memory usage: 800.0+ bytes\n"
     ]
    }
   ],
   "source": [
    "data.info() #No Null values\n",
    "#Note data type of data columns"
   ]
  },
  {
   "cell_type": "code",
   "execution_count": 11,
   "id": "47245779",
   "metadata": {
    "ExecuteTime": {
     "end_time": "2022-02-23T10:56:08.201925Z",
     "start_time": "2022-02-23T10:56:08.161922Z"
    }
   },
   "outputs": [
    {
     "data": {
      "text/html": [
       "<div>\n",
       "<style scoped>\n",
       "    .dataframe tbody tr th:only-of-type {\n",
       "        vertical-align: middle;\n",
       "    }\n",
       "\n",
       "    .dataframe tbody tr th {\n",
       "        vertical-align: top;\n",
       "    }\n",
       "\n",
       "    .dataframe thead th {\n",
       "        text-align: right;\n",
       "    }\n",
       "</style>\n",
       "<table border=\"1\" class=\"dataframe\">\n",
       "  <thead>\n",
       "    <tr style=\"text-align: right;\">\n",
       "      <th></th>\n",
       "      <th>Sales</th>\n",
       "    </tr>\n",
       "  </thead>\n",
       "  <tbody>\n",
       "    <tr>\n",
       "      <th>count</th>\n",
       "      <td>42.000000</td>\n",
       "    </tr>\n",
       "    <tr>\n",
       "      <th>mean</th>\n",
       "      <td>2994.353308</td>\n",
       "    </tr>\n",
       "    <tr>\n",
       "      <th>std</th>\n",
       "      <td>977.930896</td>\n",
       "    </tr>\n",
       "    <tr>\n",
       "      <th>min</th>\n",
       "      <td>1547.818996</td>\n",
       "    </tr>\n",
       "    <tr>\n",
       "      <th>25%</th>\n",
       "      <td>2159.714247</td>\n",
       "    </tr>\n",
       "    <tr>\n",
       "      <th>50%</th>\n",
       "      <td>2782.376999</td>\n",
       "    </tr>\n",
       "    <tr>\n",
       "      <th>75%</th>\n",
       "      <td>3609.250000</td>\n",
       "    </tr>\n",
       "    <tr>\n",
       "      <th>max</th>\n",
       "      <td>5253.000000</td>\n",
       "    </tr>\n",
       "  </tbody>\n",
       "</table>\n",
       "</div>"
      ],
      "text/plain": [
       "             Sales\n",
       "count    42.000000\n",
       "mean   2994.353308\n",
       "std     977.930896\n",
       "min    1547.818996\n",
       "25%    2159.714247\n",
       "50%    2782.376999\n",
       "75%    3609.250000\n",
       "max    5253.000000"
      ]
     },
     "execution_count": 11,
     "metadata": {},
     "output_type": "execute_result"
    }
   ],
   "source": [
    "data.describe()"
   ]
  },
  {
   "cell_type": "markdown",
   "id": "807b3a83",
   "metadata": {},
   "source": [
    "##### Visualizing the data"
   ]
  },
  {
   "cell_type": "code",
   "execution_count": 14,
   "id": "a908eaea",
   "metadata": {
    "ExecuteTime": {
     "end_time": "2022-02-23T10:58:06.486825Z",
     "start_time": "2022-02-23T10:58:06.446811Z"
    }
   },
   "outputs": [
    {
     "data": {
      "text/plain": [
       "Quarter\n",
       "Q1_86    1734.827000\n",
       "Q2_86    2244.960999\n",
       "Q3_86    2533.804993\n",
       "Q4_86    2154.962997\n",
       "Q1_87    1547.818996\n",
       "Q2_87    2104.411995\n",
       "Name: Sales, dtype: float64"
      ]
     },
     "execution_count": 14,
     "metadata": {},
     "output_type": "execute_result"
    }
   ],
   "source": [
    "viz=pd.read_excel('/Users/sreeramkn/Downloads/CocaCola_Sales_Rawdata.xlsx',\n",
    "                  header=0,index_col=0,parse_dates=True,squeeze=True)\n",
    "viz[:6]"
   ]
  },
  {
   "cell_type": "code",
   "execution_count": 15,
   "id": "3e895270",
   "metadata": {
    "ExecuteTime": {
     "end_time": "2022-02-23T10:58:07.919085Z",
     "start_time": "2022-02-23T10:58:07.293795Z"
    },
    "scrolled": false
   },
   "outputs": [
    {
     "data": {
      "image/png": "[encoded data removed]",
      "text/plain": [
       "<Figure size 720x444.96 with 1 Axes>"
      ]
     },
     "metadata": {},
     "output_type": "display_data"
    }
   ],
   "source": [
    "#Line plot\n",
    "sns.set(rc={'figure.figsize':(10,6.18)})\n",
    "sns.set(style=\"ticks\", context=\"talk\")\n",
    "plt.style.use(\"dark_background\")\n",
    "sns.lineplot(data=viz, color='lime')\n",
    "plt.show()\n",
    "#There seems to be a upward trend with additive seasonality"
   ]
  },
  {
   "cell_type": "code",
   "execution_count": 16,
   "id": "38199ced",
   "metadata": {
    "ExecuteTime": {
     "end_time": "2022-02-23T10:58:08.129432Z",
     "start_time": "2022-02-23T10:58:07.919085Z"
    }
   },
   "outputs": [
    {
     "data": {
      "image/png": "[encoded data removed]",
      "text/plain": [
       "<Figure size 720x444.96 with 1 Axes>"
      ]
     },
     "metadata": {},
     "output_type": "display_data"
    }
   ],
   "source": [
    "sns.histplot(data=viz, color='mediumorchid')\n",
    "plt.show() #Passenger count with reference to months"
   ]
  },
  {
   "cell_type": "code",
   "execution_count": 17,
   "id": "d910cef2",
   "metadata": {
    "ExecuteTime": {
     "end_time": "2022-02-23T10:58:08.577245Z",
     "start_time": "2022-02-23T10:58:08.377265Z"
    },
    "scrolled": false
   },
   "outputs": [
    {
     "data": {
      "image/png": "[encoded data removed]",
      "text/plain": [
       "<Figure size 720x444.96 with 1 Axes>"
      ]
     },
     "metadata": {},
     "output_type": "display_data"
    }
   ],
   "source": [
    "sns.kdeplot(data=viz, color='fuchsia')\n",
    "plt.show() #Density Plot"
   ]
  },
  {
   "cell_type": "code",
   "execution_count": 18,
   "id": "74d21bdb",
   "metadata": {
    "ExecuteTime": {
     "end_time": "2022-02-23T10:58:08.930945Z",
     "start_time": "2022-02-23T10:58:08.906935Z"
    }
   },
   "outputs": [
    {
     "data": {
      "text/html": [
       "<div>\n",
       "<style scoped>\n",
       "    .dataframe tbody tr th:only-of-type {\n",
       "        vertical-align: middle;\n",
       "    }\n",
       "\n",
       "    .dataframe tbody tr th {\n",
       "        vertical-align: top;\n",
       "    }\n",
       "\n",
       "    .dataframe thead th {\n",
       "        text-align: right;\n",
       "    }\n",
       "</style>\n",
       "<table border=\"1\" class=\"dataframe\">\n",
       "  <thead>\n",
       "    <tr style=\"text-align: right;\">\n",
       "      <th></th>\n",
       "      <th>Quarter</th>\n",
       "      <th>Sales</th>\n",
       "      <th>quarters</th>\n",
       "      <th>years</th>\n",
       "    </tr>\n",
       "  </thead>\n",
       "  <tbody>\n",
       "    <tr>\n",
       "      <th>0</th>\n",
       "      <td>Q1_86</td>\n",
       "      <td>1734.827000</td>\n",
       "      <td>Q1</td>\n",
       "      <td>86</td>\n",
       "    </tr>\n",
       "    <tr>\n",
       "      <th>1</th>\n",
       "      <td>Q2_86</td>\n",
       "      <td>2244.960999</td>\n",
       "      <td>Q2</td>\n",
       "      <td>86</td>\n",
       "    </tr>\n",
       "    <tr>\n",
       "      <th>2</th>\n",
       "      <td>Q3_86</td>\n",
       "      <td>2533.804993</td>\n",
       "      <td>Q3</td>\n",
       "      <td>86</td>\n",
       "    </tr>\n",
       "    <tr>\n",
       "      <th>3</th>\n",
       "      <td>Q4_86</td>\n",
       "      <td>2154.962997</td>\n",
       "      <td>Q4</td>\n",
       "      <td>86</td>\n",
       "    </tr>\n",
       "    <tr>\n",
       "      <th>4</th>\n",
       "      <td>Q1_87</td>\n",
       "      <td>1547.818996</td>\n",
       "      <td>Q1</td>\n",
       "      <td>87</td>\n",
       "    </tr>\n",
       "  </tbody>\n",
       "</table>\n",
       "</div>"
      ],
      "text/plain": [
       "  Quarter        Sales quarters years\n",
       "0   Q1_86  1734.827000       Q1    86\n",
       "1   Q2_86  2244.960999       Q2    86\n",
       "2   Q3_86  2533.804993       Q3    86\n",
       "3   Q4_86  2154.962997       Q4    86\n",
       "4   Q1_87  1547.818996       Q1    87"
      ]
     },
     "execution_count": 18,
     "metadata": {},
     "output_type": "execute_result"
    }
   ],
   "source": [
    "data['quarters'] = data.Quarter.apply(lambda x : x.split('_')[0])\n",
    "data['years'] = data.Quarter.apply(lambda x : x.split('_')[1])\n",
    "data.head()"
   ]
  },
  {
   "cell_type": "code",
   "execution_count": 19,
   "id": "8b1a0b25",
   "metadata": {
    "ExecuteTime": {
     "end_time": "2022-02-23T10:58:09.554655Z",
     "start_time": "2022-02-23T10:58:09.530642Z"
    },
    "scrolled": true
   },
   "outputs": [
    {
     "data": {
      "text/html": [
       "<div>\n",
       "<style scoped>\n",
       "    .dataframe tbody tr th:only-of-type {\n",
       "        vertical-align: middle;\n",
       "    }\n",
       "\n",
       "    .dataframe tbody tr th {\n",
       "        vertical-align: top;\n",
       "    }\n",
       "\n",
       "    .dataframe thead th {\n",
       "        text-align: right;\n",
       "    }\n",
       "</style>\n",
       "<table border=\"1\" class=\"dataframe\">\n",
       "  <thead>\n",
       "    <tr style=\"text-align: right;\">\n",
       "      <th></th>\n",
       "      <th>Quarter</th>\n",
       "      <th>Sales</th>\n",
       "      <th>quarters</th>\n",
       "      <th>years</th>\n",
       "      <th>Q1</th>\n",
       "      <th>Q2</th>\n",
       "      <th>Q3</th>\n",
       "      <th>Q4</th>\n",
       "    </tr>\n",
       "  </thead>\n",
       "  <tbody>\n",
       "    <tr>\n",
       "      <th>0</th>\n",
       "      <td>Q1_86</td>\n",
       "      <td>1734.827000</td>\n",
       "      <td>Q1</td>\n",
       "      <td>86</td>\n",
       "      <td>1</td>\n",
       "      <td>0</td>\n",
       "      <td>0</td>\n",
       "      <td>0</td>\n",
       "    </tr>\n",
       "    <tr>\n",
       "      <th>1</th>\n",
       "      <td>Q2_86</td>\n",
       "      <td>2244.960999</td>\n",
       "      <td>Q2</td>\n",
       "      <td>86</td>\n",
       "      <td>0</td>\n",
       "      <td>1</td>\n",
       "      <td>0</td>\n",
       "      <td>0</td>\n",
       "    </tr>\n",
       "    <tr>\n",
       "      <th>2</th>\n",
       "      <td>Q3_86</td>\n",
       "      <td>2533.804993</td>\n",
       "      <td>Q3</td>\n",
       "      <td>86</td>\n",
       "      <td>0</td>\n",
       "      <td>0</td>\n",
       "      <td>1</td>\n",
       "      <td>0</td>\n",
       "    </tr>\n",
       "    <tr>\n",
       "      <th>3</th>\n",
       "      <td>Q4_86</td>\n",
       "      <td>2154.962997</td>\n",
       "      <td>Q4</td>\n",
       "      <td>86</td>\n",
       "      <td>0</td>\n",
       "      <td>0</td>\n",
       "      <td>0</td>\n",
       "      <td>1</td>\n",
       "    </tr>\n",
       "    <tr>\n",
       "      <th>4</th>\n",
       "      <td>Q1_87</td>\n",
       "      <td>1547.818996</td>\n",
       "      <td>Q1</td>\n",
       "      <td>87</td>\n",
       "      <td>1</td>\n",
       "      <td>0</td>\n",
       "      <td>0</td>\n",
       "      <td>0</td>\n",
       "    </tr>\n",
       "  </tbody>\n",
       "</table>\n",
       "</div>"
      ],
      "text/plain": [
       "  Quarter        Sales quarters years  Q1  Q2  Q3  Q4\n",
       "0   Q1_86  1734.827000       Q1    86   1   0   0   0\n",
       "1   Q2_86  2244.960999       Q2    86   0   1   0   0\n",
       "2   Q3_86  2533.804993       Q3    86   0   0   1   0\n",
       "3   Q4_86  2154.962997       Q4    86   0   0   0   1\n",
       "4   Q1_87  1547.818996       Q1    87   1   0   0   0"
      ]
     },
     "execution_count": 19,
     "metadata": {},
     "output_type": "execute_result"
    }
   ],
   "source": [
    "quater_dumies=pd.DataFrame(pd.get_dummies(data.quarters))\n",
    "data=pd.concat([data,quater_dumies],axis=1)\n",
    "data.head()"
   ]
  },
  {
   "cell_type": "code",
   "execution_count": 20,
   "id": "eba64f6b",
   "metadata": {
    "ExecuteTime": {
     "end_time": "2022-02-23T10:58:10.553397Z",
     "start_time": "2022-02-23T10:58:09.922407Z"
    },
    "scrolled": false
   },
   "outputs": [
    {
     "data": {
      "text/plain": [
       "Text(0.5, 1.0, 'Heatmap of Sales Count with Year and Quarters')"
      ]
     },
     "execution_count": 20,
     "metadata": {},
     "output_type": "execute_result"
    },
    {
     "data": {
      "image/png": "[encoded data removed]",
      "text/plain": [
       "<Figure size 720x444.96 with 2 Axes>"
      ]
     },
     "metadata": {},
     "output_type": "display_data"
    }
   ],
   "source": [
    "heatmap_y_month = pd.pivot_table(data=data,values=\"Sales\",index=\"years\",columns=\"quarters\",aggfunc=\"mean\",fill_value=0)\n",
    "sns.heatmap(heatmap_y_month,annot=True,fmt=\"g\")\n",
    "plt.title('Heatmap of Sales Count with Year and Quarters')"
   ]
  },
  {
   "cell_type": "code",
   "execution_count": 21,
   "id": "c726b930",
   "metadata": {
    "ExecuteTime": {
     "end_time": "2022-02-23T10:58:10.849541Z",
     "start_time": "2022-02-23T10:58:10.553397Z"
    },
    "scrolled": false
   },
   "outputs": [
    {
     "data": {
      "text/plain": [
       "<AxesSubplot:xlabel='quarters', ylabel='Sales'>"
      ]
     },
     "execution_count": 21,
     "metadata": {},
     "output_type": "execute_result"
    },
    {
     "data": {
      "image/png": "[encoded data removed]",
      "text/plain": [
       "<Figure size 720x444.96 with 1 Axes>"
      ]
     },
     "metadata": {},
     "output_type": "display_data"
    }
   ],
   "source": [
    "sns.boxplot(x='quarters',y='Sales',data=data)"
   ]
  },
  {
   "cell_type": "code",
   "execution_count": 22,
   "id": "465a8880",
   "metadata": {
    "ExecuteTime": {
     "end_time": "2022-02-23T10:58:11.193287Z",
     "start_time": "2022-02-23T10:58:10.849541Z"
    }
   },
   "outputs": [
    {
     "data": {
      "text/plain": [
       "<AxesSubplot:xlabel='years', ylabel='Sales'>"
      ]
     },
     "execution_count": 22,
     "metadata": {},
     "output_type": "execute_result"
    },
    {
     "data": {
      "image/png": "[encoded data removed]",
      "text/plain": [
       "<Figure size 720x444.96 with 1 Axes>"
      ]
     },
     "metadata": {},
     "output_type": "display_data"
    }
   ],
   "source": [
    "sns.boxplot(x='years',y='Sales',data=data)"
   ]
  },
  {
   "cell_type": "markdown",
   "id": "c7ca488a",
   "metadata": {},
   "source": [
    "##### Seasonal Decompose plots"
   ]
  },
  {
   "cell_type": "code",
   "execution_count": 23,
   "id": "c81a2787",
   "metadata": {
    "ExecuteTime": {
     "end_time": "2022-02-23T10:58:12.155548Z",
     "start_time": "2022-02-23T10:58:12.147551Z"
    }
   },
   "outputs": [],
   "source": [
    "decompose_ts = seasonal_decompose(viz,period=12)"
   ]
  },
  {
   "cell_type": "code",
   "execution_count": 24,
   "id": "b6e3c45b",
   "metadata": {
    "ExecuteTime": {
     "end_time": "2022-02-23T10:58:13.887760Z",
     "start_time": "2022-02-23T10:58:12.515646Z"
    },
    "scrolled": false
   },
   "outputs": [
    {
     "data": {
      "image/png": "[encoded data removed]",
      "text/plain": [
       "<Figure size 720x444.96 with 4 Axes>"
      ]
     },
     "metadata": {},
     "output_type": "display_data"
    }
   ],
   "source": [
    "decompose_ts.plot()\n",
    "plt.show() # there seems to be some patern in the residue"
   ]
  },
  {
   "cell_type": "markdown",
   "id": "a7983a25",
   "metadata": {},
   "source": [
    "##### ACF and PACF plots"
   ]
  },
  {
   "cell_type": "code",
   "execution_count": 25,
   "id": "5ccb26c5",
   "metadata": {
    "ExecuteTime": {
     "end_time": "2022-02-23T10:58:15.257074Z",
     "start_time": "2022-02-23T10:58:14.904183Z"
    },
    "scrolled": false
   },
   "outputs": [
    {
     "data": {
      "image/png": "[encoded data removed]",
      "text/plain": [
       "<Figure size 720x444.96 with 1 Axes>"
      ]
     },
     "metadata": {},
     "output_type": "display_data"
    },
    {
     "data": {
      "image/png": "[encoded data removed]",
      "text/plain": [
       "<Figure size 720x444.96 with 1 Axes>"
      ]
     },
     "metadata": {},
     "output_type": "display_data"
    }
   ],
   "source": [
    "tsa_plots.plot_acf(viz,lags=12) \n",
    "#Autocorrelation Factor >> uptill 6 we have good corr() above +-2 SE [Standard Error]\n",
    "tsa_plots.plot_pacf(viz,lags=12) \n",
    "#Partial Autocorrelation Factor >> only 9 and 11 show some good corr() +-2 SE [Standard Error]\n",
    "plt.show()"
   ]
  },
  {
   "cell_type": "markdown",
   "id": "83275af7",
   "metadata": {},
   "source": [
    "## Preprocess data"
   ]
  },
  {
   "cell_type": "markdown",
   "id": "ee7fb7e6",
   "metadata": {},
   "source": [
    "#### Transformations"
   ]
  },
  {
   "cell_type": "code",
   "execution_count": 26,
   "id": "498bfe13",
   "metadata": {
    "ExecuteTime": {
     "end_time": "2022-02-23T10:58:19.847343Z",
     "start_time": "2022-02-23T10:58:19.839345Z"
    }
   },
   "outputs": [],
   "source": [
    "# adding t values >> new variable 1\n",
    "data['t']= np.arange(1,data.shape[0]+1) "
   ]
  },
  {
   "cell_type": "code",
   "execution_count": 27,
   "id": "9a28ab94",
   "metadata": {
    "ExecuteTime": {
     "end_time": "2022-02-23T10:58:20.159377Z",
     "start_time": "2022-02-23T10:58:20.151383Z"
    }
   },
   "outputs": [],
   "source": [
    "# adding t_sqr values >> new variable 2\n",
    "data['t_sqr'] = data['t']**2"
   ]
  },
  {
   "cell_type": "code",
   "execution_count": 28,
   "id": "d0985e1f",
   "metadata": {
    "ExecuteTime": {
     "end_time": "2022-02-23T10:58:20.550763Z",
     "start_time": "2022-02-23T10:58:20.534768Z"
    }
   },
   "outputs": [],
   "source": [
    "# adding log_ values >> new variable 3\n",
    "data['log_sales'] = np.log(data['Sales'])"
   ]
  },
  {
   "cell_type": "code",
   "execution_count": 29,
   "id": "45f056a9",
   "metadata": {
    "ExecuteTime": {
     "end_time": "2022-02-23T10:58:20.949646Z",
     "start_time": "2022-02-23T10:58:20.917636Z"
    }
   },
   "outputs": [
    {
     "data": {
      "text/html": [
       "<div>\n",
       "<style scoped>\n",
       "    .dataframe tbody tr th:only-of-type {\n",
       "        vertical-align: middle;\n",
       "    }\n",
       "\n",
       "    .dataframe tbody tr th {\n",
       "        vertical-align: top;\n",
       "    }\n",
       "\n",
       "    .dataframe thead th {\n",
       "        text-align: right;\n",
       "    }\n",
       "</style>\n",
       "<table border=\"1\" class=\"dataframe\">\n",
       "  <thead>\n",
       "    <tr style=\"text-align: right;\">\n",
       "      <th></th>\n",
       "      <th>Quarter</th>\n",
       "      <th>Sales</th>\n",
       "      <th>quarters</th>\n",
       "      <th>years</th>\n",
       "      <th>Q1</th>\n",
       "      <th>Q2</th>\n",
       "      <th>Q3</th>\n",
       "      <th>Q4</th>\n",
       "      <th>t</th>\n",
       "      <th>t_sqr</th>\n",
       "      <th>log_sales</th>\n",
       "    </tr>\n",
       "  </thead>\n",
       "  <tbody>\n",
       "    <tr>\n",
       "      <th>0</th>\n",
       "      <td>Q1_86</td>\n",
       "      <td>1734.827000</td>\n",
       "      <td>Q1</td>\n",
       "      <td>86</td>\n",
       "      <td>1</td>\n",
       "      <td>0</td>\n",
       "      <td>0</td>\n",
       "      <td>0</td>\n",
       "      <td>1</td>\n",
       "      <td>1</td>\n",
       "      <td>7.458663</td>\n",
       "    </tr>\n",
       "    <tr>\n",
       "      <th>1</th>\n",
       "      <td>Q2_86</td>\n",
       "      <td>2244.960999</td>\n",
       "      <td>Q2</td>\n",
       "      <td>86</td>\n",
       "      <td>0</td>\n",
       "      <td>1</td>\n",
       "      <td>0</td>\n",
       "      <td>0</td>\n",
       "      <td>2</td>\n",
       "      <td>4</td>\n",
       "      <td>7.716443</td>\n",
       "    </tr>\n",
       "    <tr>\n",
       "      <th>2</th>\n",
       "      <td>Q3_86</td>\n",
       "      <td>2533.804993</td>\n",
       "      <td>Q3</td>\n",
       "      <td>86</td>\n",
       "      <td>0</td>\n",
       "      <td>0</td>\n",
       "      <td>1</td>\n",
       "      <td>0</td>\n",
       "      <td>3</td>\n",
       "      <td>9</td>\n",
       "      <td>7.837477</td>\n",
       "    </tr>\n",
       "    <tr>\n",
       "      <th>3</th>\n",
       "      <td>Q4_86</td>\n",
       "      <td>2154.962997</td>\n",
       "      <td>Q4</td>\n",
       "      <td>86</td>\n",
       "      <td>0</td>\n",
       "      <td>0</td>\n",
       "      <td>0</td>\n",
       "      <td>1</td>\n",
       "      <td>4</td>\n",
       "      <td>16</td>\n",
       "      <td>7.675529</td>\n",
       "    </tr>\n",
       "    <tr>\n",
       "      <th>4</th>\n",
       "      <td>Q1_87</td>\n",
       "      <td>1547.818996</td>\n",
       "      <td>Q1</td>\n",
       "      <td>87</td>\n",
       "      <td>1</td>\n",
       "      <td>0</td>\n",
       "      <td>0</td>\n",
       "      <td>0</td>\n",
       "      <td>5</td>\n",
       "      <td>25</td>\n",
       "      <td>7.344602</td>\n",
       "    </tr>\n",
       "  </tbody>\n",
       "</table>\n",
       "</div>"
      ],
      "text/plain": [
       "  Quarter        Sales quarters years  Q1  Q2  Q3  Q4  t  t_sqr  log_sales\n",
       "0   Q1_86  1734.827000       Q1    86   1   0   0   0  1      1   7.458663\n",
       "1   Q2_86  2244.960999       Q2    86   0   1   0   0  2      4   7.716443\n",
       "2   Q3_86  2533.804993       Q3    86   0   0   1   0  3      9   7.837477\n",
       "3   Q4_86  2154.962997       Q4    86   0   0   0   1  4     16   7.675529\n",
       "4   Q1_87  1547.818996       Q1    87   1   0   0   0  5     25   7.344602"
      ]
     },
     "execution_count": 29,
     "metadata": {},
     "output_type": "execute_result"
    }
   ],
   "source": [
    "data.head()"
   ]
  },
  {
   "cell_type": "markdown",
   "id": "42710dff",
   "metadata": {},
   "source": [
    "#### Partition & Metrics"
   ]
  },
  {
   "cell_type": "code",
   "execution_count": 30,
   "id": "48163ced",
   "metadata": {
    "ExecuteTime": {
     "end_time": "2022-02-23T10:58:21.741037Z",
     "start_time": "2022-02-23T10:58:21.725020Z"
    }
   },
   "outputs": [],
   "source": [
    "#Partition Series\n",
    "train = data.iloc[:35]\n",
    "test = data.iloc[35:]"
   ]
  },
  {
   "cell_type": "markdown",
   "id": "d77eeef7",
   "metadata": {},
   "source": [
    "##### RMSE for Predictive Accuracy\n",
    "- Model with lowest RMSE is the best"
   ]
  },
  {
   "cell_type": "code",
   "execution_count": 31,
   "id": "ea43ce69",
   "metadata": {
    "ExecuteTime": {
     "end_time": "2022-02-23T10:58:22.452303Z",
     "start_time": "2022-02-23T10:58:22.436285Z"
    }
   },
   "outputs": [],
   "source": [
    "#performance metrics \n",
    "pfm_model_bsd = dict() # For model driven\n",
    "pfm_data_bsd = dict() # For Data driven"
   ]
  },
  {
   "cell_type": "markdown",
   "id": "b2fae6f4",
   "metadata": {},
   "source": [
    "## Applying Forecasting Methods\n",
    "### Model Driven"
   ]
  },
  {
   "cell_type": "markdown",
   "id": "ef1e964b",
   "metadata": {},
   "source": [
    "#### Classical ML Model based Methods"
   ]
  },
  {
   "cell_type": "code",
   "execution_count": 32,
   "id": "e4313d53",
   "metadata": {
    "ExecuteTime": {
     "end_time": "2022-02-23T10:58:23.555405Z",
     "start_time": "2022-02-23T10:58:23.523398Z"
    }
   },
   "outputs": [
    {
     "data": {
      "text/plain": [
       "636.5072930351143"
      ]
     },
     "execution_count": 32,
     "metadata": {},
     "output_type": "execute_result"
    }
   ],
   "source": [
    "#Linear Model\n",
    "linear_model = smf.ols('Sales~t',data=train).fit()\n",
    "pred_linear =  pd.Series(linear_model.predict(pd.DataFrame(test['t'])))\n",
    "rmse_linear = mean_squared_error(test.Sales, pred_linear, squared=False) #RMSE Calculation\n",
    "pfm_model_bsd.update( {'Linear Model' : rmse_linear} )\n",
    "rmse_linear"
   ]
  },
  {
   "cell_type": "code",
   "execution_count": 33,
   "id": "a3184937",
   "metadata": {
    "ExecuteTime": {
     "end_time": "2022-02-23T10:58:23.847940Z",
     "start_time": "2022-02-23T10:58:23.823957Z"
    }
   },
   "outputs": [
    {
     "data": {
      "text/plain": [
       "4515.811064811282"
      ]
     },
     "execution_count": 33,
     "metadata": {},
     "output_type": "execute_result"
    }
   ],
   "source": [
    "#Exponential\n",
    "Exp = smf.ols('log_sales~t',data=train).fit()\n",
    "pred_Exp = pd.Series(Exp.predict(pd.DataFrame(test['t'])))\n",
    "rmse_Exp = mean_squared_error(test.Sales, pred_Exp, squared=False)\n",
    "pfm_model_bsd.update( {'Exponential Model' : rmse_Exp} )\n",
    "rmse_Exp"
   ]
  },
  {
   "cell_type": "code",
   "execution_count": 34,
   "id": "c5e8e09d",
   "metadata": {
    "ExecuteTime": {
     "end_time": "2022-02-23T10:58:24.111983Z",
     "start_time": "2022-02-23T10:58:24.080006Z"
    }
   },
   "outputs": [
    {
     "data": {
      "text/plain": [
       "511.811731941759"
      ]
     },
     "execution_count": 34,
     "metadata": {},
     "output_type": "execute_result"
    }
   ],
   "source": [
    "#Quadratic \n",
    "Quad = smf.ols('Sales~t+t_sqr',data=train).fit()\n",
    "pred_Quad = pd.Series(Quad.predict(test[[\"t\",\"t_sqr\"]]))\n",
    "rmse_Quad = mean_squared_error(test.Sales,pred_Quad, squared=False)\n",
    "pfm_model_bsd.update( {'Quadratic Model' : rmse_Quad} )\n",
    "rmse_Quad"
   ]
  },
  {
   "cell_type": "code",
   "execution_count": 35,
   "id": "dee180cc",
   "metadata": {
    "ExecuteTime": {
     "end_time": "2022-02-23T10:58:24.349033Z",
     "start_time": "2022-02-23T10:58:24.309032Z"
    }
   },
   "outputs": [
    {
     "data": {
      "text/plain": [
       "1861.8704164251737"
      ]
     },
     "execution_count": 35,
     "metadata": {},
     "output_type": "execute_result"
    }
   ],
   "source": [
    "#Additive seasonality \n",
    "add_sea = smf.ols('Sales~Q1+Q2+Q3+Q4',data=train).fit()\n",
    "pred_add_sea = pd.Series(add_sea.predict(test[['Q1','Q2','Q3','Q4']]))\n",
    "rmse_add_sea = mean_squared_error(test.Sales,pred_add_sea, squared=False)\n",
    "pfm_model_bsd.update( {'Additive seasonality' : rmse_add_sea} )\n",
    "rmse_add_sea"
   ]
  },
  {
   "cell_type": "code",
   "execution_count": 36,
   "id": "e3f97efe",
   "metadata": {
    "ExecuteTime": {
     "end_time": "2022-02-23T10:58:25.120038Z",
     "start_time": "2022-02-23T10:58:25.088039Z"
    }
   },
   "outputs": [
    {
     "data": {
      "text/plain": [
       "309.4641395163552"
      ]
     },
     "execution_count": 36,
     "metadata": {},
     "output_type": "execute_result"
    }
   ],
   "source": [
    "#Additive Seasonality Quadratic \n",
    "add_sea_Quad = smf.ols('Sales~t+t_sqr+Q1+Q2+Q3+Q4',data=train).fit()\n",
    "pred_add_sea_quad = pd.Series(add_sea_Quad.predict(test[['Q1','Q2','Q3','Q4','t','t_sqr']]))\n",
    "rmse_add_sea_quad = mean_squared_error(test.Sales,pred_add_sea_quad, squared=False)\n",
    "pfm_model_bsd.update( {'Additive Seasonality Quadratic' : rmse_add_sea_quad} )\n",
    "rmse_add_sea_quad"
   ]
  },
  {
   "cell_type": "code",
   "execution_count": 37,
   "id": "a9189f05",
   "metadata": {
    "ExecuteTime": {
     "end_time": "2022-02-23T10:58:25.663910Z",
     "start_time": "2022-02-23T10:58:25.623934Z"
    }
   },
   "outputs": [
    {
     "data": {
      "text/plain": [
       "4516.300741074347"
      ]
     },
     "execution_count": 37,
     "metadata": {},
     "output_type": "execute_result"
    }
   ],
   "source": [
    "#Multiplicative Seasonality\n",
    "Mul_sea = smf.ols('log_sales~Q1+Q2+Q3+Q4',data = train).fit()\n",
    "pred_Mult_sea = pd.Series(Mul_sea.predict(test))\n",
    "rmse_Mult_sea = mean_squared_error(test.Sales,pred_Mult_sea, squared=False)\n",
    "pfm_model_bsd.update( {'Multiplicative Seasonality' : rmse_Mult_sea} )\n",
    "rmse_Mult_sea"
   ]
  },
  {
   "cell_type": "code",
   "execution_count": 38,
   "id": "92f4cd58",
   "metadata": {
    "ExecuteTime": {
     "end_time": "2022-02-23T10:58:26.253431Z",
     "start_time": "2022-02-23T10:58:26.220835Z"
    }
   },
   "outputs": [
    {
     "data": {
      "text/plain": [
       "4515.822756171213"
      ]
     },
     "execution_count": 38,
     "metadata": {},
     "output_type": "execute_result"
    }
   ],
   "source": [
    "#Multiplicative Additive Seasonality \n",
    "Mul_Add_sea = smf.ols('log_sales~t+Q1+Q2+Q3+Q4',data = train).fit()\n",
    "pred_Mult_add_sea = pd.Series(Mul_Add_sea.predict(test))\n",
    "rmse_Mult_add_sea = mean_squared_error(test.Sales,pred_Mult_add_sea, squared=False)\n",
    "pfm_model_bsd.update( {'Multiplicative Additive Seasonality ' : rmse_Mult_add_sea} )\n",
    "rmse_Mult_add_sea "
   ]
  },
  {
   "cell_type": "code",
   "execution_count": 39,
   "id": "8033919e",
   "metadata": {
    "ExecuteTime": {
     "end_time": "2022-02-23T10:58:26.701748Z",
     "start_time": "2022-02-23T10:58:26.685787Z"
    },
    "scrolled": true
   },
   "outputs": [
    {
     "data": {
      "text/html": [
       "<div>\n",
       "<style scoped>\n",
       "    .dataframe tbody tr th:only-of-type {\n",
       "        vertical-align: middle;\n",
       "    }\n",
       "\n",
       "    .dataframe tbody tr th {\n",
       "        vertical-align: top;\n",
       "    }\n",
       "\n",
       "    .dataframe thead th {\n",
       "        text-align: right;\n",
       "    }\n",
       "</style>\n",
       "<table border=\"1\" class=\"dataframe\">\n",
       "  <thead>\n",
       "    <tr style=\"text-align: right;\">\n",
       "      <th></th>\n",
       "      <th>MODEL</th>\n",
       "      <th>RMSE</th>\n",
       "    </tr>\n",
       "  </thead>\n",
       "  <tbody>\n",
       "    <tr>\n",
       "      <th>4</th>\n",
       "      <td>Additive Seasonality Quadratic</td>\n",
       "      <td>309.464140</td>\n",
       "    </tr>\n",
       "    <tr>\n",
       "      <th>2</th>\n",
       "      <td>Quadratic Model</td>\n",
       "      <td>511.811732</td>\n",
       "    </tr>\n",
       "    <tr>\n",
       "      <th>0</th>\n",
       "      <td>Linear Model</td>\n",
       "      <td>636.507293</td>\n",
       "    </tr>\n",
       "    <tr>\n",
       "      <th>3</th>\n",
       "      <td>Additive seasonality</td>\n",
       "      <td>1861.870416</td>\n",
       "    </tr>\n",
       "    <tr>\n",
       "      <th>1</th>\n",
       "      <td>Exponential Model</td>\n",
       "      <td>4515.811065</td>\n",
       "    </tr>\n",
       "    <tr>\n",
       "      <th>6</th>\n",
       "      <td>Multiplicative Additive Seasonality</td>\n",
       "      <td>4515.822756</td>\n",
       "    </tr>\n",
       "    <tr>\n",
       "      <th>5</th>\n",
       "      <td>Multiplicative Seasonality</td>\n",
       "      <td>4516.300741</td>\n",
       "    </tr>\n",
       "  </tbody>\n",
       "</table>\n",
       "</div>"
      ],
      "text/plain": [
       "                                  MODEL         RMSE\n",
       "4        Additive Seasonality Quadratic   309.464140\n",
       "2                       Quadratic Model   511.811732\n",
       "0                          Linear Model   636.507293\n",
       "3                  Additive seasonality  1861.870416\n",
       "1                     Exponential Model  4515.811065\n",
       "6  Multiplicative Additive Seasonality   4515.822756\n",
       "5            Multiplicative Seasonality  4516.300741"
      ]
     },
     "execution_count": 39,
     "metadata": {},
     "output_type": "execute_result"
    }
   ],
   "source": [
    "result_model_bsd = pd.DataFrame(pfm_model_bsd.items(),columns=['MODEL', 'RMSE'])\n",
    "result_model_bsd.sort_values(by=['RMSE'])\n",
    "#Additive Seasonality Quadratic has the best values\n",
    "# We will plot the forcasting in the evaluation part"
   ]
  },
  {
   "cell_type": "markdown",
   "id": "ed62ffa3",
   "metadata": {},
   "source": [
    "###### Model Evaluation - Additive Seasonality Quadratic"
   ]
  },
  {
   "cell_type": "code",
   "execution_count": 40,
   "id": "edf1efde",
   "metadata": {
    "ExecuteTime": {
     "end_time": "2022-02-23T10:58:27.616179Z",
     "start_time": "2022-02-23T10:58:27.592165Z"
    }
   },
   "outputs": [
    {
     "data": {
      "text/html": [
       "<div>\n",
       "<style scoped>\n",
       "    .dataframe tbody tr th:only-of-type {\n",
       "        vertical-align: middle;\n",
       "    }\n",
       "\n",
       "    .dataframe tbody tr th {\n",
       "        vertical-align: top;\n",
       "    }\n",
       "\n",
       "    .dataframe thead th {\n",
       "        text-align: right;\n",
       "    }\n",
       "</style>\n",
       "<table border=\"1\" class=\"dataframe\">\n",
       "  <thead>\n",
       "    <tr style=\"text-align: right;\">\n",
       "      <th></th>\n",
       "      <th>Quarter</th>\n",
       "      <th>Sales</th>\n",
       "      <th>quarters</th>\n",
       "      <th>years</th>\n",
       "      <th>Q1</th>\n",
       "      <th>Q2</th>\n",
       "      <th>Q3</th>\n",
       "      <th>Q4</th>\n",
       "      <th>t</th>\n",
       "      <th>t_sqr</th>\n",
       "      <th>log_sales</th>\n",
       "    </tr>\n",
       "  </thead>\n",
       "  <tbody>\n",
       "    <tr>\n",
       "      <th>0</th>\n",
       "      <td>Q1_86</td>\n",
       "      <td>1734.827000</td>\n",
       "      <td>Q1</td>\n",
       "      <td>86</td>\n",
       "      <td>1</td>\n",
       "      <td>0</td>\n",
       "      <td>0</td>\n",
       "      <td>0</td>\n",
       "      <td>1</td>\n",
       "      <td>1</td>\n",
       "      <td>7.458663</td>\n",
       "    </tr>\n",
       "    <tr>\n",
       "      <th>1</th>\n",
       "      <td>Q2_86</td>\n",
       "      <td>2244.960999</td>\n",
       "      <td>Q2</td>\n",
       "      <td>86</td>\n",
       "      <td>0</td>\n",
       "      <td>1</td>\n",
       "      <td>0</td>\n",
       "      <td>0</td>\n",
       "      <td>2</td>\n",
       "      <td>4</td>\n",
       "      <td>7.716443</td>\n",
       "    </tr>\n",
       "    <tr>\n",
       "      <th>2</th>\n",
       "      <td>Q3_86</td>\n",
       "      <td>2533.804993</td>\n",
       "      <td>Q3</td>\n",
       "      <td>86</td>\n",
       "      <td>0</td>\n",
       "      <td>0</td>\n",
       "      <td>1</td>\n",
       "      <td>0</td>\n",
       "      <td>3</td>\n",
       "      <td>9</td>\n",
       "      <td>7.837477</td>\n",
       "    </tr>\n",
       "    <tr>\n",
       "      <th>3</th>\n",
       "      <td>Q4_86</td>\n",
       "      <td>2154.962997</td>\n",
       "      <td>Q4</td>\n",
       "      <td>86</td>\n",
       "      <td>0</td>\n",
       "      <td>0</td>\n",
       "      <td>0</td>\n",
       "      <td>1</td>\n",
       "      <td>4</td>\n",
       "      <td>16</td>\n",
       "      <td>7.675529</td>\n",
       "    </tr>\n",
       "    <tr>\n",
       "      <th>4</th>\n",
       "      <td>Q1_87</td>\n",
       "      <td>1547.818996</td>\n",
       "      <td>Q1</td>\n",
       "      <td>87</td>\n",
       "      <td>1</td>\n",
       "      <td>0</td>\n",
       "      <td>0</td>\n",
       "      <td>0</td>\n",
       "      <td>5</td>\n",
       "      <td>25</td>\n",
       "      <td>7.344602</td>\n",
       "    </tr>\n",
       "  </tbody>\n",
       "</table>\n",
       "</div>"
      ],
      "text/plain": [
       "  Quarter        Sales quarters years  Q1  Q2  Q3  Q4  t  t_sqr  log_sales\n",
       "0   Q1_86  1734.827000       Q1    86   1   0   0   0  1      1   7.458663\n",
       "1   Q2_86  2244.960999       Q2    86   0   1   0   0  2      4   7.716443\n",
       "2   Q3_86  2533.804993       Q3    86   0   0   1   0  3      9   7.837477\n",
       "3   Q4_86  2154.962997       Q4    86   0   0   0   1  4     16   7.675529\n",
       "4   Q1_87  1547.818996       Q1    87   1   0   0   0  5     25   7.344602"
      ]
     },
     "execution_count": 40,
     "metadata": {},
     "output_type": "execute_result"
    }
   ],
   "source": [
    "data2 = data.copy()\n",
    "data2.head()"
   ]
  },
  {
   "cell_type": "code",
   "execution_count": 41,
   "id": "4b742c5e",
   "metadata": {
    "ExecuteTime": {
     "end_time": "2022-02-23T10:58:27.934420Z",
     "start_time": "2022-02-23T10:58:27.918182Z"
    }
   },
   "outputs": [
    {
     "data": {
      "text/plain": [
       "array(['Quarter', 'Sales', 'quarters', 'years', 'Q1', 'Q2', 'Q3', 'Q4',\n",
       "       't', 't_sqr', 'log_sales'], dtype=object)"
      ]
     },
     "execution_count": 41,
     "metadata": {},
     "output_type": "execute_result"
    }
   ],
   "source": [
    "data2.columns.values"
   ]
  },
  {
   "cell_type": "code",
   "execution_count": 42,
   "id": "5968e445",
   "metadata": {
    "ExecuteTime": {
     "end_time": "2022-02-23T10:58:28.242252Z",
     "start_time": "2022-02-23T10:58:28.226263Z"
    }
   },
   "outputs": [
    {
     "data": {
      "text/html": [
       "<div>\n",
       "<style scoped>\n",
       "    .dataframe tbody tr th:only-of-type {\n",
       "        vertical-align: middle;\n",
       "    }\n",
       "\n",
       "    .dataframe tbody tr th {\n",
       "        vertical-align: top;\n",
       "    }\n",
       "\n",
       "    .dataframe thead th {\n",
       "        text-align: right;\n",
       "    }\n",
       "</style>\n",
       "<table border=\"1\" class=\"dataframe\">\n",
       "  <thead>\n",
       "    <tr style=\"text-align: right;\">\n",
       "      <th></th>\n",
       "      <th>t</th>\n",
       "      <th>years</th>\n",
       "      <th>quarters</th>\n",
       "      <th>Sales</th>\n",
       "    </tr>\n",
       "  </thead>\n",
       "  <tbody>\n",
       "    <tr>\n",
       "      <th>0</th>\n",
       "      <td>1</td>\n",
       "      <td>86</td>\n",
       "      <td>Q1</td>\n",
       "      <td>1734.827000</td>\n",
       "    </tr>\n",
       "    <tr>\n",
       "      <th>1</th>\n",
       "      <td>2</td>\n",
       "      <td>86</td>\n",
       "      <td>Q2</td>\n",
       "      <td>2244.960999</td>\n",
       "    </tr>\n",
       "    <tr>\n",
       "      <th>2</th>\n",
       "      <td>3</td>\n",
       "      <td>86</td>\n",
       "      <td>Q3</td>\n",
       "      <td>2533.804993</td>\n",
       "    </tr>\n",
       "    <tr>\n",
       "      <th>3</th>\n",
       "      <td>4</td>\n",
       "      <td>86</td>\n",
       "      <td>Q4</td>\n",
       "      <td>2154.962997</td>\n",
       "    </tr>\n",
       "    <tr>\n",
       "      <th>4</th>\n",
       "      <td>5</td>\n",
       "      <td>87</td>\n",
       "      <td>Q1</td>\n",
       "      <td>1547.818996</td>\n",
       "    </tr>\n",
       "  </tbody>\n",
       "</table>\n",
       "</div>"
      ],
      "text/plain": [
       "   t years quarters        Sales\n",
       "0  1    86       Q1  1734.827000\n",
       "1  2    86       Q2  2244.960999\n",
       "2  3    86       Q3  2533.804993\n",
       "3  4    86       Q4  2154.962997\n",
       "4  5    87       Q1  1547.818996"
      ]
     },
     "execution_count": 42,
     "metadata": {},
     "output_type": "execute_result"
    }
   ],
   "source": [
    "data2.drop(['Quarter','Q1', 'Q2', 'Q3', 'Q4','t_sqr', 'log_sales'], axis=1, inplace=True)\n",
    "data2 = data2[['t', 'years', 'quarters', 'Sales']] \n",
    "data1 = data2.copy()\n",
    "data3 = data2.copy()\n",
    "data_fnl = data2.copy()\n",
    "data2.head()"
   ]
  },
  {
   "cell_type": "code",
   "execution_count": 43,
   "id": "0bfdd515",
   "metadata": {
    "ExecuteTime": {
     "end_time": "2022-02-23T10:58:28.783052Z",
     "start_time": "2022-02-23T10:58:28.758978Z"
    },
    "scrolled": true
   },
   "outputs": [
    {
     "data": {
      "text/html": [
       "<div>\n",
       "<style scoped>\n",
       "    .dataframe tbody tr th:only-of-type {\n",
       "        vertical-align: middle;\n",
       "    }\n",
       "\n",
       "    .dataframe tbody tr th {\n",
       "        vertical-align: top;\n",
       "    }\n",
       "\n",
       "    .dataframe thead th {\n",
       "        text-align: right;\n",
       "    }\n",
       "</style>\n",
       "<table border=\"1\" class=\"dataframe\">\n",
       "  <thead>\n",
       "    <tr style=\"text-align: right;\">\n",
       "      <th></th>\n",
       "      <th>t</th>\n",
       "      <th>years</th>\n",
       "      <th>quarters</th>\n",
       "      <th>Sales</th>\n",
       "      <th>Predicted</th>\n",
       "    </tr>\n",
       "  </thead>\n",
       "  <tbody>\n",
       "    <tr>\n",
       "      <th>0</th>\n",
       "      <td>1</td>\n",
       "      <td>86</td>\n",
       "      <td>Q1</td>\n",
       "      <td>1734.827000</td>\n",
       "      <td>1715.011163</td>\n",
       "    </tr>\n",
       "    <tr>\n",
       "      <th>1</th>\n",
       "      <td>2</td>\n",
       "      <td>86</td>\n",
       "      <td>Q2</td>\n",
       "      <td>2244.960999</td>\n",
       "      <td>2277.750192</td>\n",
       "    </tr>\n",
       "    <tr>\n",
       "      <th>2</th>\n",
       "      <td>3</td>\n",
       "      <td>86</td>\n",
       "      <td>Q3</td>\n",
       "      <td>2533.804993</td>\n",
       "      <td>2194.873446</td>\n",
       "    </tr>\n",
       "    <tr>\n",
       "      <th>3</th>\n",
       "      <td>4</td>\n",
       "      <td>86</td>\n",
       "      <td>Q4</td>\n",
       "      <td>2154.962997</td>\n",
       "      <td>1919.651866</td>\n",
       "    </tr>\n",
       "    <tr>\n",
       "      <th>4</th>\n",
       "      <td>5</td>\n",
       "      <td>87</td>\n",
       "      <td>Q1</td>\n",
       "      <td>1547.818996</td>\n",
       "      <td>1703.261332</td>\n",
       "    </tr>\n",
       "  </tbody>\n",
       "</table>\n",
       "</div>"
      ],
      "text/plain": [
       "   t years quarters        Sales    Predicted\n",
       "0  1    86       Q1  1734.827000  1715.011163\n",
       "1  2    86       Q2  2244.960999  2277.750192\n",
       "2  3    86       Q3  2533.804993  2194.873446\n",
       "3  4    86       Q4  2154.962997  1919.651866\n",
       "4  5    87       Q1  1547.818996  1703.261332"
      ]
     },
     "execution_count": 43,
     "metadata": {},
     "output_type": "execute_result"
    }
   ],
   "source": [
    "data2[\"Predicted\"] = pd.Series(add_sea_Quad.predict(data[['Q1','Q2','Q3','Q4','t','t_sqr']]))\n",
    "data2.head()"
   ]
  },
  {
   "cell_type": "code",
   "execution_count": 44,
   "id": "bd6dcb52",
   "metadata": {
    "ExecuteTime": {
     "end_time": "2022-02-23T10:58:29.151273Z",
     "start_time": "2022-02-23T10:58:29.135319Z"
    },
    "scrolled": true
   },
   "outputs": [
    {
     "data": {
      "text/html": [
       "<div>\n",
       "<style scoped>\n",
       "    .dataframe tbody tr th:only-of-type {\n",
       "        vertical-align: middle;\n",
       "    }\n",
       "\n",
       "    .dataframe tbody tr th {\n",
       "        vertical-align: top;\n",
       "    }\n",
       "\n",
       "    .dataframe thead th {\n",
       "        text-align: right;\n",
       "    }\n",
       "</style>\n",
       "<table border=\"1\" class=\"dataframe\">\n",
       "  <thead>\n",
       "    <tr style=\"text-align: right;\">\n",
       "      <th></th>\n",
       "      <th>t</th>\n",
       "      <th>years</th>\n",
       "      <th>quarters</th>\n",
       "      <th>Sales</th>\n",
       "      <th>Predicted</th>\n",
       "      <th>Date</th>\n",
       "    </tr>\n",
       "  </thead>\n",
       "  <tbody>\n",
       "    <tr>\n",
       "      <th>0</th>\n",
       "      <td>1</td>\n",
       "      <td>86</td>\n",
       "      <td>Q1</td>\n",
       "      <td>1734.827000</td>\n",
       "      <td>1715.011163</td>\n",
       "      <td>1986-03-31</td>\n",
       "    </tr>\n",
       "    <tr>\n",
       "      <th>1</th>\n",
       "      <td>2</td>\n",
       "      <td>86</td>\n",
       "      <td>Q2</td>\n",
       "      <td>2244.960999</td>\n",
       "      <td>2277.750192</td>\n",
       "      <td>1986-06-30</td>\n",
       "    </tr>\n",
       "    <tr>\n",
       "      <th>2</th>\n",
       "      <td>3</td>\n",
       "      <td>86</td>\n",
       "      <td>Q3</td>\n",
       "      <td>2533.804993</td>\n",
       "      <td>2194.873446</td>\n",
       "      <td>1986-09-30</td>\n",
       "    </tr>\n",
       "    <tr>\n",
       "      <th>3</th>\n",
       "      <td>4</td>\n",
       "      <td>86</td>\n",
       "      <td>Q4</td>\n",
       "      <td>2154.962997</td>\n",
       "      <td>1919.651866</td>\n",
       "      <td>1986-12-31</td>\n",
       "    </tr>\n",
       "    <tr>\n",
       "      <th>4</th>\n",
       "      <td>5</td>\n",
       "      <td>87</td>\n",
       "      <td>Q1</td>\n",
       "      <td>1547.818996</td>\n",
       "      <td>1703.261332</td>\n",
       "      <td>1987-03-31</td>\n",
       "    </tr>\n",
       "  </tbody>\n",
       "</table>\n",
       "</div>"
      ],
      "text/plain": [
       "   t years quarters        Sales    Predicted       Date\n",
       "0  1    86       Q1  1734.827000  1715.011163 1986-03-31\n",
       "1  2    86       Q2  2244.960999  2277.750192 1986-06-30\n",
       "2  3    86       Q3  2533.804993  2194.873446 1986-09-30\n",
       "3  4    86       Q4  2154.962997  1919.651866 1986-12-31\n",
       "4  5    87       Q1  1547.818996  1703.261332 1987-03-31"
      ]
     },
     "execution_count": 44,
     "metadata": {},
     "output_type": "execute_result"
    }
   ],
   "source": [
    "# add a date column in the dataset\n",
    "data2['Date'] = pd.date_range(start='1986-01-01', end = '1996-07-01', freq = 'Q')\n",
    "data2.head()"
   ]
  },
  {
   "cell_type": "code",
   "execution_count": 45,
   "id": "88440dc1",
   "metadata": {
    "ExecuteTime": {
     "end_time": "2022-02-23T10:58:29.818780Z",
     "start_time": "2022-02-23T10:58:29.511032Z"
    }
   },
   "outputs": [
    {
     "data": {
      "text/plain": [
       "<AxesSubplot:xlabel='Date', ylabel='Value'>"
      ]
     },
     "execution_count": 45,
     "metadata": {},
     "output_type": "execute_result"
    },
    {
     "data": {
      "image/png": "[encoded data removed]",
      "text/plain": [
       "<Figure size 720x444.96 with 1 Axes>"
      ]
     },
     "metadata": {},
     "output_type": "display_data"
    }
   ],
   "source": [
    "# line plot - View for the entire dataset _ ASQ\n",
    "viz2 = data2.loc[:,[\"Date\",\"Sales\",\"Predicted\"]].melt(\"Date\",var_name=\"predV/sTrue\",value_name=\"Value\")\n",
    "sns.lineplot(data=viz2, x=viz2.Date, y=viz2.Value,hue=\"predV/sTrue\",palette=[\"deeppink\",\"lime\"])\n",
    "#There is certain variance in the initial years and final years"
   ]
  },
  {
   "cell_type": "code",
   "execution_count": 46,
   "id": "8d5b7d92",
   "metadata": {
    "ExecuteTime": {
     "end_time": "2022-02-23T10:58:30.194647Z",
     "start_time": "2022-02-23T10:58:29.890735Z"
    }
   },
   "outputs": [
    {
     "data": {
      "text/plain": [
       "<AxesSubplot:xlabel='Date', ylabel='Value'>"
      ]
     },
     "execution_count": 46,
     "metadata": {},
     "output_type": "execute_result"
    },
    {
     "data": {
      "image/png": "[encoded data removed]",
      "text/plain": [
       "<Figure size 720x444.96 with 1 Axes>"
      ]
     },
     "metadata": {},
     "output_type": "display_data"
    }
   ],
   "source": [
    "#Line plot - Train V/s Test Plot\n",
    "data2.Predicted.iloc[:35] = np.nan\n",
    "data2.Sales.iloc[35:] = np.nan\n",
    "\n",
    "viz3 = data2.loc[:,[\"Date\",\"Sales\",\"Predicted\"]].melt(\"Date\",var_name=\"predV/sTrue\",value_name=\"Value\")\n",
    "sns.lineplot(data=viz3, x=viz3.Date, y=viz3.Value,hue=\"predV/sTrue\",palette=[\"deeppink\",\"lime\"])\n",
    "#There is large variance from true value"
   ]
  },
  {
   "cell_type": "markdown",
   "id": "bf0adf24",
   "metadata": {},
   "source": [
    "#### Pycaret ML Model based Methods\n",
    "- This is a low code library which is extremely good and fast\n",
    "- https://towardsdatascience.com/time-series-forecasting-with-pycaret-regression-module-237b703a0c63"
   ]
  },
  {
   "cell_type": "code",
   "execution_count": 47,
   "id": "9ced2808",
   "metadata": {
    "ExecuteTime": {
     "end_time": "2022-02-23T10:58:49.612894Z",
     "start_time": "2022-02-23T10:58:49.588909Z"
    },
    "scrolled": true
   },
   "outputs": [
    {
     "data": {
      "text/html": [
       "<div>\n",
       "<style scoped>\n",
       "    .dataframe tbody tr th:only-of-type {\n",
       "        vertical-align: middle;\n",
       "    }\n",
       "\n",
       "    .dataframe tbody tr th {\n",
       "        vertical-align: top;\n",
       "    }\n",
       "\n",
       "    .dataframe thead th {\n",
       "        text-align: right;\n",
       "    }\n",
       "</style>\n",
       "<table border=\"1\" class=\"dataframe\">\n",
       "  <thead>\n",
       "    <tr style=\"text-align: right;\">\n",
       "      <th></th>\n",
       "      <th>t</th>\n",
       "      <th>years</th>\n",
       "      <th>quarters</th>\n",
       "      <th>Sales</th>\n",
       "    </tr>\n",
       "  </thead>\n",
       "  <tbody>\n",
       "    <tr>\n",
       "      <th>0</th>\n",
       "      <td>1</td>\n",
       "      <td>86</td>\n",
       "      <td>Q1</td>\n",
       "      <td>1734.827000</td>\n",
       "    </tr>\n",
       "    <tr>\n",
       "      <th>1</th>\n",
       "      <td>2</td>\n",
       "      <td>86</td>\n",
       "      <td>Q2</td>\n",
       "      <td>2244.960999</td>\n",
       "    </tr>\n",
       "    <tr>\n",
       "      <th>2</th>\n",
       "      <td>3</td>\n",
       "      <td>86</td>\n",
       "      <td>Q3</td>\n",
       "      <td>2533.804993</td>\n",
       "    </tr>\n",
       "    <tr>\n",
       "      <th>3</th>\n",
       "      <td>4</td>\n",
       "      <td>86</td>\n",
       "      <td>Q4</td>\n",
       "      <td>2154.962997</td>\n",
       "    </tr>\n",
       "    <tr>\n",
       "      <th>4</th>\n",
       "      <td>5</td>\n",
       "      <td>87</td>\n",
       "      <td>Q1</td>\n",
       "      <td>1547.818996</td>\n",
       "    </tr>\n",
       "  </tbody>\n",
       "</table>\n",
       "</div>"
      ],
      "text/plain": [
       "   t years quarters        Sales\n",
       "0  1    86       Q1  1734.827000\n",
       "1  2    86       Q2  2244.960999\n",
       "2  3    86       Q3  2533.804993\n",
       "3  4    86       Q4  2154.962997\n",
       "4  5    87       Q1  1547.818996"
      ]
     },
     "execution_count": 47,
     "metadata": {},
     "output_type": "execute_result"
    }
   ],
   "source": [
    "#we have copied this data from previous case\n",
    "data1.head()"
   ]
  },
  {
   "cell_type": "code",
   "execution_count": 48,
   "id": "5cc04a6e",
   "metadata": {
    "ExecuteTime": {
     "end_time": "2022-02-23T10:58:49.901433Z",
     "start_time": "2022-02-23T10:58:49.885441Z"
    }
   },
   "outputs": [],
   "source": [
    "#Partition Series\n",
    "train1 = data1.iloc[:35]\n",
    "test1 = data1.iloc[35:]"
   ]
  },
  {
   "cell_type": "code",
   "execution_count": 49,
   "id": "693a543f",
   "metadata": {
    "ExecuteTime": {
     "end_time": "2022-02-23T10:58:53.452903Z",
     "start_time": "2022-02-23T10:58:50.149442Z"
    },
    "scrolled": true
   },
   "outputs": [
    {
     "data": {
      "text/html": [
       "<style  type=\"text/css\" >\n",
       "#T_b1f19_row42_col1,#T_b1f19_row56_col1{\n",
       "            background-color:  lightgreen;\n",
       "        }</style><table id=\"T_b1f19_\" ><thead>    <tr>        <th class=\"blank level0\" ></th>        <th class=\"col_heading level0 col0\" >Description</th>        <th class=\"col_heading level0 col1\" >Value</th>    </tr></thead><tbody>\n",
       "                <tr>\n",
       "                        <th id=\"T_b1f19_level0_row0\" class=\"row_heading level0 row0\" >0</th>\n",
       "                        <td id=\"T_b1f19_row0_col0\" class=\"data row0 col0\" >session_id</td>\n",
       "                        <td id=\"T_b1f19_row0_col1\" class=\"data row0 col1\" >123</td>\n",
       "            </tr>\n",
       "            <tr>\n",
       "                        <th id=\"T_b1f19_level0_row1\" class=\"row_heading level0 row1\" >1</th>\n",
       "                        <td id=\"T_b1f19_row1_col0\" class=\"data row1 col0\" >Target</td>\n",
       "                        <td id=\"T_b1f19_row1_col1\" class=\"data row1 col1\" >Sales</td>\n",
       "            </tr>\n",
       "            <tr>\n",
       "                        <th id=\"T_b1f19_level0_row2\" class=\"row_heading level0 row2\" >2</th>\n",
       "                        <td id=\"T_b1f19_row2_col0\" class=\"data row2 col0\" >Original Data</td>\n",
       "                        <td id=\"T_b1f19_row2_col1\" class=\"data row2 col1\" >(35, 4)</td>\n",
       "            </tr>\n",
       "            <tr>\n",
       "                        <th id=\"T_b1f19_level0_row3\" class=\"row_heading level0 row3\" >3</th>\n",
       "                        <td id=\"T_b1f19_row3_col0\" class=\"data row3 col0\" >Missing Values</td>\n",
       "                        <td id=\"T_b1f19_row3_col1\" class=\"data row3 col1\" >False</td>\n",
       "            </tr>\n",
       "            <tr>\n",
       "                        <th id=\"T_b1f19_level0_row4\" class=\"row_heading level0 row4\" >4</th>\n",
       "                        <td id=\"T_b1f19_row4_col0\" class=\"data row4 col0\" >Numeric Features</td>\n",
       "                        <td id=\"T_b1f19_row4_col1\" class=\"data row4 col1\" >2</td>\n",
       "            </tr>\n",
       "            <tr>\n",
       "                        <th id=\"T_b1f19_level0_row5\" class=\"row_heading level0 row5\" >5</th>\n",
       "                        <td id=\"T_b1f19_row5_col0\" class=\"data row5 col0\" >Categorical Features</td>\n",
       "                        <td id=\"T_b1f19_row5_col1\" class=\"data row5 col1\" >1</td>\n",
       "            </tr>\n",
       "            <tr>\n",
       "                        <th id=\"T_b1f19_level0_row6\" class=\"row_heading level0 row6\" >6</th>\n",
       "                        <td id=\"T_b1f19_row6_col0\" class=\"data row6 col0\" >Ordinal Features</td>\n",
       "                        <td id=\"T_b1f19_row6_col1\" class=\"data row6 col1\" >False</td>\n",
       "            </tr>\n",
       "            <tr>\n",
       "                        <th id=\"T_b1f19_level0_row7\" class=\"row_heading level0 row7\" >7</th>\n",
       "                        <td id=\"T_b1f19_row7_col0\" class=\"data row7 col0\" >High Cardinality Features</td>\n",
       "                        <td id=\"T_b1f19_row7_col1\" class=\"data row7 col1\" >False</td>\n",
       "            </tr>\n",
       "            <tr>\n",
       "                        <th id=\"T_b1f19_level0_row8\" class=\"row_heading level0 row8\" >8</th>\n",
       "                        <td id=\"T_b1f19_row8_col0\" class=\"data row8 col0\" >High Cardinality Method</td>\n",
       "                        <td id=\"T_b1f19_row8_col1\" class=\"data row8 col1\" >None</td>\n",
       "            </tr>\n",
       "            <tr>\n",
       "                        <th id=\"T_b1f19_level0_row9\" class=\"row_heading level0 row9\" >9</th>\n",
       "                        <td id=\"T_b1f19_row9_col0\" class=\"data row9 col0\" >Transformed Train Set</td>\n",
       "                        <td id=\"T_b1f19_row9_col1\" class=\"data row9 col1\" >(35, 6)</td>\n",
       "            </tr>\n",
       "            <tr>\n",
       "                        <th id=\"T_b1f19_level0_row10\" class=\"row_heading level0 row10\" >10</th>\n",
       "                        <td id=\"T_b1f19_row10_col0\" class=\"data row10 col0\" >Transformed Test Set</td>\n",
       "                        <td id=\"T_b1f19_row10_col1\" class=\"data row10 col1\" >(7, 6)</td>\n",
       "            </tr>\n",
       "            <tr>\n",
       "                        <th id=\"T_b1f19_level0_row11\" class=\"row_heading level0 row11\" >11</th>\n",
       "                        <td id=\"T_b1f19_row11_col0\" class=\"data row11 col0\" >Shuffle Train-Test</td>\n",
       "                        <td id=\"T_b1f19_row11_col1\" class=\"data row11 col1\" >True</td>\n",
       "            </tr>\n",
       "            <tr>\n",
       "                        <th id=\"T_b1f19_level0_row12\" class=\"row_heading level0 row12\" >12</th>\n",
       "                        <td id=\"T_b1f19_row12_col0\" class=\"data row12 col0\" >Stratify Train-Test</td>\n",
       "                        <td id=\"T_b1f19_row12_col1\" class=\"data row12 col1\" >False</td>\n",
       "            </tr>\n",
       "            <tr>\n",
       "                        <th id=\"T_b1f19_level0_row13\" class=\"row_heading level0 row13\" >13</th>\n",
       "                        <td id=\"T_b1f19_row13_col0\" class=\"data row13 col0\" >Fold Generator</td>\n",
       "                        <td id=\"T_b1f19_row13_col1\" class=\"data row13 col1\" >TimeSeriesSplit</td>\n",
       "            </tr>\n",
       "            <tr>\n",
       "                        <th id=\"T_b1f19_level0_row14\" class=\"row_heading level0 row14\" >14</th>\n",
       "                        <td id=\"T_b1f19_row14_col0\" class=\"data row14 col0\" >Fold Number</td>\n",
       "                        <td id=\"T_b1f19_row14_col1\" class=\"data row14 col1\" >3</td>\n",
       "            </tr>\n",
       "            <tr>\n",
       "                        <th id=\"T_b1f19_level0_row15\" class=\"row_heading level0 row15\" >15</th>\n",
       "                        <td id=\"T_b1f19_row15_col0\" class=\"data row15 col0\" >CPU Jobs</td>\n",
       "                        <td id=\"T_b1f19_row15_col1\" class=\"data row15 col1\" >-1</td>\n",
       "            </tr>\n",
       "            <tr>\n",
       "                        <th id=\"T_b1f19_level0_row16\" class=\"row_heading level0 row16\" >16</th>\n",
       "                        <td id=\"T_b1f19_row16_col0\" class=\"data row16 col0\" >Use GPU</td>\n",
       "                        <td id=\"T_b1f19_row16_col1\" class=\"data row16 col1\" >False</td>\n",
       "            </tr>\n",
       "            <tr>\n",
       "                        <th id=\"T_b1f19_level0_row17\" class=\"row_heading level0 row17\" >17</th>\n",
       "                        <td id=\"T_b1f19_row17_col0\" class=\"data row17 col0\" >Log Experiment</td>\n",
       "                        <td id=\"T_b1f19_row17_col1\" class=\"data row17 col1\" >False</td>\n",
       "            </tr>\n",
       "            <tr>\n",
       "                        <th id=\"T_b1f19_level0_row18\" class=\"row_heading level0 row18\" >18</th>\n",
       "                        <td id=\"T_b1f19_row18_col0\" class=\"data row18 col0\" >Experiment Name</td>\n",
       "                        <td id=\"T_b1f19_row18_col1\" class=\"data row18 col1\" >reg-default-name</td>\n",
       "            </tr>\n",
       "            <tr>\n",
       "                        <th id=\"T_b1f19_level0_row19\" class=\"row_heading level0 row19\" >19</th>\n",
       "                        <td id=\"T_b1f19_row19_col0\" class=\"data row19 col0\" >USI</td>\n",
       "                        <td id=\"T_b1f19_row19_col1\" class=\"data row19 col1\" >bf87</td>\n",
       "            </tr>\n",
       "            <tr>\n",
       "                        <th id=\"T_b1f19_level0_row20\" class=\"row_heading level0 row20\" >20</th>\n",
       "                        <td id=\"T_b1f19_row20_col0\" class=\"data row20 col0\" >Imputation Type</td>\n",
       "                        <td id=\"T_b1f19_row20_col1\" class=\"data row20 col1\" >simple</td>\n",
       "            </tr>\n",
       "            <tr>\n",
       "                        <th id=\"T_b1f19_level0_row21\" class=\"row_heading level0 row21\" >21</th>\n",
       "                        <td id=\"T_b1f19_row21_col0\" class=\"data row21 col0\" >Iterative Imputation Iteration</td>\n",
       "                        <td id=\"T_b1f19_row21_col1\" class=\"data row21 col1\" >None</td>\n",
       "            </tr>\n",
       "            <tr>\n",
       "                        <th id=\"T_b1f19_level0_row22\" class=\"row_heading level0 row22\" >22</th>\n",
       "                        <td id=\"T_b1f19_row22_col0\" class=\"data row22 col0\" >Numeric Imputer</td>\n",
       "                        <td id=\"T_b1f19_row22_col1\" class=\"data row22 col1\" >mean</td>\n",
       "            </tr>\n",
       "            <tr>\n",
       "                        <th id=\"T_b1f19_level0_row23\" class=\"row_heading level0 row23\" >23</th>\n",
       "                        <td id=\"T_b1f19_row23_col0\" class=\"data row23 col0\" >Iterative Imputation Numeric Model</td>\n",
       "                        <td id=\"T_b1f19_row23_col1\" class=\"data row23 col1\" >None</td>\n",
       "            </tr>\n",
       "            <tr>\n",
       "                        <th id=\"T_b1f19_level0_row24\" class=\"row_heading level0 row24\" >24</th>\n",
       "                        <td id=\"T_b1f19_row24_col0\" class=\"data row24 col0\" >Categorical Imputer</td>\n",
       "                        <td id=\"T_b1f19_row24_col1\" class=\"data row24 col1\" >constant</td>\n",
       "            </tr>\n",
       "            <tr>\n",
       "                        <th id=\"T_b1f19_level0_row25\" class=\"row_heading level0 row25\" >25</th>\n",
       "                        <td id=\"T_b1f19_row25_col0\" class=\"data row25 col0\" >Iterative Imputation Categorical Model</td>\n",
       "                        <td id=\"T_b1f19_row25_col1\" class=\"data row25 col1\" >None</td>\n",
       "            </tr>\n",
       "            <tr>\n",
       "                        <th id=\"T_b1f19_level0_row26\" class=\"row_heading level0 row26\" >26</th>\n",
       "                        <td id=\"T_b1f19_row26_col0\" class=\"data row26 col0\" >Unknown Categoricals Handling</td>\n",
       "                        <td id=\"T_b1f19_row26_col1\" class=\"data row26 col1\" >least_frequent</td>\n",
       "            </tr>\n",
       "            <tr>\n",
       "                        <th id=\"T_b1f19_level0_row27\" class=\"row_heading level0 row27\" >27</th>\n",
       "                        <td id=\"T_b1f19_row27_col0\" class=\"data row27 col0\" >Normalize</td>\n",
       "                        <td id=\"T_b1f19_row27_col1\" class=\"data row27 col1\" >False</td>\n",
       "            </tr>\n",
       "            <tr>\n",
       "                        <th id=\"T_b1f19_level0_row28\" class=\"row_heading level0 row28\" >28</th>\n",
       "                        <td id=\"T_b1f19_row28_col0\" class=\"data row28 col0\" >Normalize Method</td>\n",
       "                        <td id=\"T_b1f19_row28_col1\" class=\"data row28 col1\" >None</td>\n",
       "            </tr>\n",
       "            <tr>\n",
       "                        <th id=\"T_b1f19_level0_row29\" class=\"row_heading level0 row29\" >29</th>\n",
       "                        <td id=\"T_b1f19_row29_col0\" class=\"data row29 col0\" >Transformation</td>\n",
       "                        <td id=\"T_b1f19_row29_col1\" class=\"data row29 col1\" >False</td>\n",
       "            </tr>\n",
       "            <tr>\n",
       "                        <th id=\"T_b1f19_level0_row30\" class=\"row_heading level0 row30\" >30</th>\n",
       "                        <td id=\"T_b1f19_row30_col0\" class=\"data row30 col0\" >Transformation Method</td>\n",
       "                        <td id=\"T_b1f19_row30_col1\" class=\"data row30 col1\" >None</td>\n",
       "            </tr>\n",
       "            <tr>\n",
       "                        <th id=\"T_b1f19_level0_row31\" class=\"row_heading level0 row31\" >31</th>\n",
       "                        <td id=\"T_b1f19_row31_col0\" class=\"data row31 col0\" >PCA</td>\n",
       "                        <td id=\"T_b1f19_row31_col1\" class=\"data row31 col1\" >False</td>\n",
       "            </tr>\n",
       "            <tr>\n",
       "                        <th id=\"T_b1f19_level0_row32\" class=\"row_heading level0 row32\" >32</th>\n",
       "                        <td id=\"T_b1f19_row32_col0\" class=\"data row32 col0\" >PCA Method</td>\n",
       "                        <td id=\"T_b1f19_row32_col1\" class=\"data row32 col1\" >None</td>\n",
       "            </tr>\n",
       "            <tr>\n",
       "                        <th id=\"T_b1f19_level0_row33\" class=\"row_heading level0 row33\" >33</th>\n",
       "                        <td id=\"T_b1f19_row33_col0\" class=\"data row33 col0\" >PCA Components</td>\n",
       "                        <td id=\"T_b1f19_row33_col1\" class=\"data row33 col1\" >None</td>\n",
       "            </tr>\n",
       "            <tr>\n",
       "                        <th id=\"T_b1f19_level0_row34\" class=\"row_heading level0 row34\" >34</th>\n",
       "                        <td id=\"T_b1f19_row34_col0\" class=\"data row34 col0\" >Ignore Low Variance</td>\n",
       "                        <td id=\"T_b1f19_row34_col1\" class=\"data row34 col1\" >False</td>\n",
       "            </tr>\n",
       "            <tr>\n",
       "                        <th id=\"T_b1f19_level0_row35\" class=\"row_heading level0 row35\" >35</th>\n",
       "                        <td id=\"T_b1f19_row35_col0\" class=\"data row35 col0\" >Combine Rare Levels</td>\n",
       "                        <td id=\"T_b1f19_row35_col1\" class=\"data row35 col1\" >False</td>\n",
       "            </tr>\n",
       "            <tr>\n",
       "                        <th id=\"T_b1f19_level0_row36\" class=\"row_heading level0 row36\" >36</th>\n",
       "                        <td id=\"T_b1f19_row36_col0\" class=\"data row36 col0\" >Rare Level Threshold</td>\n",
       "                        <td id=\"T_b1f19_row36_col1\" class=\"data row36 col1\" >None</td>\n",
       "            </tr>\n",
       "            <tr>\n",
       "                        <th id=\"T_b1f19_level0_row37\" class=\"row_heading level0 row37\" >37</th>\n",
       "                        <td id=\"T_b1f19_row37_col0\" class=\"data row37 col0\" >Numeric Binning</td>\n",
       "                        <td id=\"T_b1f19_row37_col1\" class=\"data row37 col1\" >False</td>\n",
       "            </tr>\n",
       "            <tr>\n",
       "                        <th id=\"T_b1f19_level0_row38\" class=\"row_heading level0 row38\" >38</th>\n",
       "                        <td id=\"T_b1f19_row38_col0\" class=\"data row38 col0\" >Remove Outliers</td>\n",
       "                        <td id=\"T_b1f19_row38_col1\" class=\"data row38 col1\" >False</td>\n",
       "            </tr>\n",
       "            <tr>\n",
       "                        <th id=\"T_b1f19_level0_row39\" class=\"row_heading level0 row39\" >39</th>\n",
       "                        <td id=\"T_b1f19_row39_col0\" class=\"data row39 col0\" >Outliers Threshold</td>\n",
       "                        <td id=\"T_b1f19_row39_col1\" class=\"data row39 col1\" >None</td>\n",
       "            </tr>\n",
       "            <tr>\n",
       "                        <th id=\"T_b1f19_level0_row40\" class=\"row_heading level0 row40\" >40</th>\n",
       "                        <td id=\"T_b1f19_row40_col0\" class=\"data row40 col0\" >Remove Multicollinearity</td>\n",
       "                        <td id=\"T_b1f19_row40_col1\" class=\"data row40 col1\" >False</td>\n",
       "            </tr>\n",
       "            <tr>\n",
       "                        <th id=\"T_b1f19_level0_row41\" class=\"row_heading level0 row41\" >41</th>\n",
       "                        <td id=\"T_b1f19_row41_col0\" class=\"data row41 col0\" >Multicollinearity Threshold</td>\n",
       "                        <td id=\"T_b1f19_row41_col1\" class=\"data row41 col1\" >None</td>\n",
       "            </tr>\n",
       "            <tr>\n",
       "                        <th id=\"T_b1f19_level0_row42\" class=\"row_heading level0 row42\" >42</th>\n",
       "                        <td id=\"T_b1f19_row42_col0\" class=\"data row42 col0\" >Remove Perfect Collinearity</td>\n",
       "                        <td id=\"T_b1f19_row42_col1\" class=\"data row42 col1\" >True</td>\n",
       "            </tr>\n",
       "            <tr>\n",
       "                        <th id=\"T_b1f19_level0_row43\" class=\"row_heading level0 row43\" >43</th>\n",
       "                        <td id=\"T_b1f19_row43_col0\" class=\"data row43 col0\" >Clustering</td>\n",
       "                        <td id=\"T_b1f19_row43_col1\" class=\"data row43 col1\" >False</td>\n",
       "            </tr>\n",
       "            <tr>\n",
       "                        <th id=\"T_b1f19_level0_row44\" class=\"row_heading level0 row44\" >44</th>\n",
       "                        <td id=\"T_b1f19_row44_col0\" class=\"data row44 col0\" >Clustering Iteration</td>\n",
       "                        <td id=\"T_b1f19_row44_col1\" class=\"data row44 col1\" >None</td>\n",
       "            </tr>\n",
       "            <tr>\n",
       "                        <th id=\"T_b1f19_level0_row45\" class=\"row_heading level0 row45\" >45</th>\n",
       "                        <td id=\"T_b1f19_row45_col0\" class=\"data row45 col0\" >Polynomial Features</td>\n",
       "                        <td id=\"T_b1f19_row45_col1\" class=\"data row45 col1\" >False</td>\n",
       "            </tr>\n",
       "            <tr>\n",
       "                        <th id=\"T_b1f19_level0_row46\" class=\"row_heading level0 row46\" >46</th>\n",
       "                        <td id=\"T_b1f19_row46_col0\" class=\"data row46 col0\" >Polynomial Degree</td>\n",
       "                        <td id=\"T_b1f19_row46_col1\" class=\"data row46 col1\" >None</td>\n",
       "            </tr>\n",
       "            <tr>\n",
       "                        <th id=\"T_b1f19_level0_row47\" class=\"row_heading level0 row47\" >47</th>\n",
       "                        <td id=\"T_b1f19_row47_col0\" class=\"data row47 col0\" >Trignometry Features</td>\n",
       "                        <td id=\"T_b1f19_row47_col1\" class=\"data row47 col1\" >False</td>\n",
       "            </tr>\n",
       "            <tr>\n",
       "                        <th id=\"T_b1f19_level0_row48\" class=\"row_heading level0 row48\" >48</th>\n",
       "                        <td id=\"T_b1f19_row48_col0\" class=\"data row48 col0\" >Polynomial Threshold</td>\n",
       "                        <td id=\"T_b1f19_row48_col1\" class=\"data row48 col1\" >None</td>\n",
       "            </tr>\n",
       "            <tr>\n",
       "                        <th id=\"T_b1f19_level0_row49\" class=\"row_heading level0 row49\" >49</th>\n",
       "                        <td id=\"T_b1f19_row49_col0\" class=\"data row49 col0\" >Group Features</td>\n",
       "                        <td id=\"T_b1f19_row49_col1\" class=\"data row49 col1\" >False</td>\n",
       "            </tr>\n",
       "            <tr>\n",
       "                        <th id=\"T_b1f19_level0_row50\" class=\"row_heading level0 row50\" >50</th>\n",
       "                        <td id=\"T_b1f19_row50_col0\" class=\"data row50 col0\" >Feature Selection</td>\n",
       "                        <td id=\"T_b1f19_row50_col1\" class=\"data row50 col1\" >False</td>\n",
       "            </tr>\n",
       "            <tr>\n",
       "                        <th id=\"T_b1f19_level0_row51\" class=\"row_heading level0 row51\" >51</th>\n",
       "                        <td id=\"T_b1f19_row51_col0\" class=\"data row51 col0\" >Feature Selection Method</td>\n",
       "                        <td id=\"T_b1f19_row51_col1\" class=\"data row51 col1\" >classic</td>\n",
       "            </tr>\n",
       "            <tr>\n",
       "                        <th id=\"T_b1f19_level0_row52\" class=\"row_heading level0 row52\" >52</th>\n",
       "                        <td id=\"T_b1f19_row52_col0\" class=\"data row52 col0\" >Features Selection Threshold</td>\n",
       "                        <td id=\"T_b1f19_row52_col1\" class=\"data row52 col1\" >None</td>\n",
       "            </tr>\n",
       "            <tr>\n",
       "                        <th id=\"T_b1f19_level0_row53\" class=\"row_heading level0 row53\" >53</th>\n",
       "                        <td id=\"T_b1f19_row53_col0\" class=\"data row53 col0\" >Feature Interaction</td>\n",
       "                        <td id=\"T_b1f19_row53_col1\" class=\"data row53 col1\" >False</td>\n",
       "            </tr>\n",
       "            <tr>\n",
       "                        <th id=\"T_b1f19_level0_row54\" class=\"row_heading level0 row54\" >54</th>\n",
       "                        <td id=\"T_b1f19_row54_col0\" class=\"data row54 col0\" >Feature Ratio</td>\n",
       "                        <td id=\"T_b1f19_row54_col1\" class=\"data row54 col1\" >False</td>\n",
       "            </tr>\n",
       "            <tr>\n",
       "                        <th id=\"T_b1f19_level0_row55\" class=\"row_heading level0 row55\" >55</th>\n",
       "                        <td id=\"T_b1f19_row55_col0\" class=\"data row55 col0\" >Interaction Threshold</td>\n",
       "                        <td id=\"T_b1f19_row55_col1\" class=\"data row55 col1\" >None</td>\n",
       "            </tr>\n",
       "            <tr>\n",
       "                        <th id=\"T_b1f19_level0_row56\" class=\"row_heading level0 row56\" >56</th>\n",
       "                        <td id=\"T_b1f19_row56_col0\" class=\"data row56 col0\" >Transform Target</td>\n",
       "                        <td id=\"T_b1f19_row56_col1\" class=\"data row56 col1\" >True</td>\n",
       "            </tr>\n",
       "            <tr>\n",
       "                        <th id=\"T_b1f19_level0_row57\" class=\"row_heading level0 row57\" >57</th>\n",
       "                        <td id=\"T_b1f19_row57_col0\" class=\"data row57 col0\" >Transform Target Method</td>\n",
       "                        <td id=\"T_b1f19_row57_col1\" class=\"data row57 col1\" >box-cox</td>\n",
       "            </tr>\n",
       "    </tbody></table>"
      ],
      "text/plain": [
       "<pandas.io.formats.style.Styler at 0x2a585489d90>"
      ]
     },
     "metadata": {},
     "output_type": "display_data"
    }
   ],
   "source": [
    "#Initialize setup\n",
    "\n",
    "# import the regression module\n",
    "from pycaret.regression import *\n",
    "# initialize setup\n",
    "s = setup(data = train1, test_data = test1, target = 'Sales', \n",
    "          fold_strategy = 'timeseries', numeric_features = ['years', 't'], \n",
    "          fold = 3, transform_target = True, session_id = 123)"
   ]
  },
  {
   "cell_type": "code",
   "execution_count": 50,
   "id": "09d0d23a",
   "metadata": {
    "ExecuteTime": {
     "end_time": "2022-02-23T10:59:09.821447Z",
     "start_time": "2022-02-23T10:58:53.452903Z"
    }
   },
   "outputs": [
    {
     "data": {
      "text/html": [
       "<style  type=\"text/css\" >\n",
       "    #T_32b90_ th {\n",
       "          text-align: left;\n",
       "    }#T_32b90_row0_col0,#T_32b90_row0_col1,#T_32b90_row0_col4,#T_32b90_row0_col5,#T_32b90_row0_col6,#T_32b90_row1_col0,#T_32b90_row1_col2,#T_32b90_row1_col3,#T_32b90_row2_col0,#T_32b90_row2_col1,#T_32b90_row2_col2,#T_32b90_row2_col3,#T_32b90_row2_col4,#T_32b90_row2_col5,#T_32b90_row2_col6,#T_32b90_row3_col0,#T_32b90_row3_col1,#T_32b90_row3_col2,#T_32b90_row3_col3,#T_32b90_row3_col4,#T_32b90_row3_col5,#T_32b90_row3_col6,#T_32b90_row4_col0,#T_32b90_row4_col1,#T_32b90_row4_col2,#T_32b90_row4_col3,#T_32b90_row4_col4,#T_32b90_row4_col5,#T_32b90_row4_col6,#T_32b90_row5_col0,#T_32b90_row5_col1,#T_32b90_row5_col2,#T_32b90_row5_col3,#T_32b90_row5_col4,#T_32b90_row5_col5,#T_32b90_row5_col6,#T_32b90_row6_col0,#T_32b90_row6_col1,#T_32b90_row6_col2,#T_32b90_row6_col3,#T_32b90_row6_col4,#T_32b90_row6_col5,#T_32b90_row6_col6,#T_32b90_row7_col0,#T_32b90_row7_col1,#T_32b90_row7_col2,#T_32b90_row7_col3,#T_32b90_row7_col4,#T_32b90_row7_col5,#T_32b90_row7_col6,#T_32b90_row8_col0,#T_32b90_row8_col1,#T_32b90_row8_col2,#T_32b90_row8_col3,#T_32b90_row8_col4,#T_32b90_row8_col5,#T_32b90_row8_col6,#T_32b90_row9_col0,#T_32b90_row9_col1,#T_32b90_row9_col2,#T_32b90_row9_col3,#T_32b90_row9_col4,#T_32b90_row9_col5,#T_32b90_row9_col6,#T_32b90_row10_col0,#T_32b90_row10_col1,#T_32b90_row10_col2,#T_32b90_row10_col3,#T_32b90_row10_col4,#T_32b90_row10_col5,#T_32b90_row10_col6,#T_32b90_row11_col0,#T_32b90_row11_col1,#T_32b90_row11_col2,#T_32b90_row11_col3,#T_32b90_row11_col4,#T_32b90_row11_col5,#T_32b90_row11_col6,#T_32b90_row12_col0,#T_32b90_row12_col1,#T_32b90_row12_col2,#T_32b90_row12_col3,#T_32b90_row12_col4,#T_32b90_row12_col5,#T_32b90_row12_col6,#T_32b90_row13_col0,#T_32b90_row13_col1,#T_32b90_row13_col2,#T_32b90_row13_col3,#T_32b90_row13_col4,#T_32b90_row13_col5,#T_32b90_row13_col6,#T_32b90_row14_col0,#T_32b90_row14_col1,#T_32b90_row14_col2,#T_32b90_row14_col3,#T_32b90_row14_col4,#T_32b90_row14_col5,#T_32b90_row14_col6,#T_32b90_row15_col0,#T_32b90_row15_col1,#T_32b90_row15_col2,#T_32b90_row15_col3,#T_32b90_row15_col4,#T_32b90_row15_col5,#T_32b90_row15_col6,#T_32b90_row16_col0,#T_32b90_row16_col1,#T_32b90_row16_col2,#T_32b90_row16_col3,#T_32b90_row16_col4,#T_32b90_row16_col5,#T_32b90_row16_col6,#T_32b90_row17_col0,#T_32b90_row17_col1,#T_32b90_row17_col2,#T_32b90_row17_col3,#T_32b90_row17_col4,#T_32b90_row17_col5,#T_32b90_row17_col6{\n",
       "            text-align:  left;\n",
       "            text-align:  left;\n",
       "        }#T_32b90_row0_col2,#T_32b90_row0_col3,#T_32b90_row1_col1,#T_32b90_row1_col4,#T_32b90_row1_col5,#T_32b90_row1_col6{\n",
       "            text-align:  left;\n",
       "            text-align:  left;\n",
       "            background-color:  yellow;\n",
       "        }#T_32b90_row0_col7,#T_32b90_row1_col7,#T_32b90_row3_col7,#T_32b90_row4_col7,#T_32b90_row5_col7,#T_32b90_row6_col7,#T_32b90_row7_col7,#T_32b90_row8_col7,#T_32b90_row9_col7,#T_32b90_row12_col7,#T_32b90_row14_col7,#T_32b90_row15_col7,#T_32b90_row16_col7{\n",
       "            text-align:  left;\n",
       "            text-align:  left;\n",
       "            background-color:  lightgrey;\n",
       "        }#T_32b90_row2_col7,#T_32b90_row10_col7,#T_32b90_row11_col7,#T_32b90_row13_col7,#T_32b90_row17_col7{\n",
       "            text-align:  left;\n",
       "            text-align:  left;\n",
       "            background-color:  yellow;\n",
       "            background-color:  lightgrey;\n",
       "        }</style><table id=\"T_32b90_\" ><thead>    <tr>        <th class=\"blank level0\" ></th>        <th class=\"col_heading level0 col0\" >Model</th>        <th class=\"col_heading level0 col1\" >MAE</th>        <th class=\"col_heading level0 col2\" >MSE</th>        <th class=\"col_heading level0 col3\" >RMSE</th>        <th class=\"col_heading level0 col4\" >R2</th>        <th class=\"col_heading level0 col5\" >RMSLE</th>        <th class=\"col_heading level0 col6\" >MAPE</th>        <th class=\"col_heading level0 col7\" >TT (Sec)</th>    </tr></thead><tbody>\n",
       "                <tr>\n",
       "                        <th id=\"T_32b90_level0_row0\" class=\"row_heading level0 row0\" >huber</th>\n",
       "                        <td id=\"T_32b90_row0_col0\" class=\"data row0 col0\" >Huber Regressor</td>\n",
       "                        <td id=\"T_32b90_row0_col1\" class=\"data row0 col1\" >307.0714</td>\n",
       "                        <td id=\"T_32b90_row0_col2\" class=\"data row0 col2\" >158955.2631</td>\n",
       "                        <td id=\"T_32b90_row0_col3\" class=\"data row0 col3\" >350.2645</td>\n",
       "                        <td id=\"T_32b90_row0_col4\" class=\"data row0 col4\" >-0.2920</td>\n",
       "                        <td id=\"T_32b90_row0_col5\" class=\"data row0 col5\" >0.1309</td>\n",
       "                        <td id=\"T_32b90_row0_col6\" class=\"data row0 col6\" >0.1061</td>\n",
       "                        <td id=\"T_32b90_row0_col7\" class=\"data row0 col7\" >0.0167</td>\n",
       "            </tr>\n",
       "            <tr>\n",
       "                        <th id=\"T_32b90_level0_row1\" class=\"row_heading level0 row1\" >gbr</th>\n",
       "                        <td id=\"T_32b90_row1_col0\" class=\"data row1 col0\" >Gradient Boosting Regressor</td>\n",
       "                        <td id=\"T_32b90_row1_col1\" class=\"data row1 col1\" >299.7615</td>\n",
       "                        <td id=\"T_32b90_row1_col2\" class=\"data row1 col2\" >167676.6230</td>\n",
       "                        <td id=\"T_32b90_row1_col3\" class=\"data row1 col3\" >403.7827</td>\n",
       "                        <td id=\"T_32b90_row1_col4\" class=\"data row1 col4\" >-0.1156</td>\n",
       "                        <td id=\"T_32b90_row1_col5\" class=\"data row1 col5\" >0.1305</td>\n",
       "                        <td id=\"T_32b90_row1_col6\" class=\"data row1 col6\" >0.0928</td>\n",
       "                        <td id=\"T_32b90_row1_col7\" class=\"data row1 col7\" >0.0200</td>\n",
       "            </tr>\n",
       "            <tr>\n",
       "                        <th id=\"T_32b90_level0_row2\" class=\"row_heading level0 row2\" >dt</th>\n",
       "                        <td id=\"T_32b90_row2_col0\" class=\"data row2 col0\" >Decision Tree Regressor</td>\n",
       "                        <td id=\"T_32b90_row2_col1\" class=\"data row2 col1\" >324.9201</td>\n",
       "                        <td id=\"T_32b90_row2_col2\" class=\"data row2 col2\" >177179.8881</td>\n",
       "                        <td id=\"T_32b90_row2_col3\" class=\"data row2 col3\" >412.0147</td>\n",
       "                        <td id=\"T_32b90_row2_col4\" class=\"data row2 col4\" >-0.1376</td>\n",
       "                        <td id=\"T_32b90_row2_col5\" class=\"data row2 col5\" >0.1332</td>\n",
       "                        <td id=\"T_32b90_row2_col6\" class=\"data row2 col6\" >0.1008</td>\n",
       "                        <td id=\"T_32b90_row2_col7\" class=\"data row2 col7\" >0.0100</td>\n",
       "            </tr>\n",
       "            <tr>\n",
       "                        <th id=\"T_32b90_level0_row3\" class=\"row_heading level0 row3\" >br</th>\n",
       "                        <td id=\"T_32b90_row3_col0\" class=\"data row3 col0\" >Bayesian Ridge</td>\n",
       "                        <td id=\"T_32b90_row3_col1\" class=\"data row3 col1\" >358.4199</td>\n",
       "                        <td id=\"T_32b90_row3_col2\" class=\"data row3 col2\" >184113.4097</td>\n",
       "                        <td id=\"T_32b90_row3_col3\" class=\"data row3 col3\" >413.8704</td>\n",
       "                        <td id=\"T_32b90_row3_col4\" class=\"data row3 col4\" >-0.4449</td>\n",
       "                        <td id=\"T_32b90_row3_col5\" class=\"data row3 col5\" >0.1485</td>\n",
       "                        <td id=\"T_32b90_row3_col6\" class=\"data row3 col6\" >0.1197</td>\n",
       "                        <td id=\"T_32b90_row3_col7\" class=\"data row3 col7\" >0.0133</td>\n",
       "            </tr>\n",
       "            <tr>\n",
       "                        <th id=\"T_32b90_level0_row4\" class=\"row_heading level0 row4\" >ridge</th>\n",
       "                        <td id=\"T_32b90_row4_col0\" class=\"data row4 col0\" >Ridge Regression</td>\n",
       "                        <td id=\"T_32b90_row4_col1\" class=\"data row4 col1\" >361.2944</td>\n",
       "                        <td id=\"T_32b90_row4_col2\" class=\"data row4 col2\" >185395.6094</td>\n",
       "                        <td id=\"T_32b90_row4_col3\" class=\"data row4 col3\" >415.3162</td>\n",
       "                        <td id=\"T_32b90_row4_col4\" class=\"data row4 col4\" >-0.4618</td>\n",
       "                        <td id=\"T_32b90_row4_col5\" class=\"data row4 col5\" >0.1502</td>\n",
       "                        <td id=\"T_32b90_row4_col6\" class=\"data row4 col6\" >0.1213</td>\n",
       "                        <td id=\"T_32b90_row4_col7\" class=\"data row4 col7\" >0.8967</td>\n",
       "            </tr>\n",
       "            <tr>\n",
       "                        <th id=\"T_32b90_level0_row5\" class=\"row_heading level0 row5\" >lr</th>\n",
       "                        <td id=\"T_32b90_row5_col0\" class=\"data row5 col0\" >Linear Regression</td>\n",
       "                        <td id=\"T_32b90_row5_col1\" class=\"data row5 col1\" >374.1765</td>\n",
       "                        <td id=\"T_32b90_row5_col2\" class=\"data row5 col2\" >192677.2474</td>\n",
       "                        <td id=\"T_32b90_row5_col3\" class=\"data row5 col3\" >422.7920</td>\n",
       "                        <td id=\"T_32b90_row5_col4\" class=\"data row5 col4\" >-0.5560</td>\n",
       "                        <td id=\"T_32b90_row5_col5\" class=\"data row5 col5\" >0.1590</td>\n",
       "                        <td id=\"T_32b90_row5_col6\" class=\"data row5 col6\" >0.1285</td>\n",
       "                        <td id=\"T_32b90_row5_col7\" class=\"data row5 col7\" >1.4867</td>\n",
       "            </tr>\n",
       "            <tr>\n",
       "                        <th id=\"T_32b90_level0_row6\" class=\"row_heading level0 row6\" >lar</th>\n",
       "                        <td id=\"T_32b90_row6_col0\" class=\"data row6 col0\" >Least Angle Regression</td>\n",
       "                        <td id=\"T_32b90_row6_col1\" class=\"data row6 col1\" >375.8673</td>\n",
       "                        <td id=\"T_32b90_row6_col2\" class=\"data row6 col2\" >193915.8805</td>\n",
       "                        <td id=\"T_32b90_row6_col3\" class=\"data row6 col3\" >425.1591</td>\n",
       "                        <td id=\"T_32b90_row6_col4\" class=\"data row6 col4\" >-0.5597</td>\n",
       "                        <td id=\"T_32b90_row6_col5\" class=\"data row6 col5\" >0.1596</td>\n",
       "                        <td id=\"T_32b90_row6_col6\" class=\"data row6 col6\" >0.1289</td>\n",
       "                        <td id=\"T_32b90_row6_col7\" class=\"data row6 col7\" >0.0133</td>\n",
       "            </tr>\n",
       "            <tr>\n",
       "                        <th id=\"T_32b90_level0_row7\" class=\"row_heading level0 row7\" >et</th>\n",
       "                        <td id=\"T_32b90_row7_col0\" class=\"data row7 col0\" >Extra Trees Regressor</td>\n",
       "                        <td id=\"T_32b90_row7_col1\" class=\"data row7 col1\" >351.7371</td>\n",
       "                        <td id=\"T_32b90_row7_col2\" class=\"data row7 col2\" >196713.7477</td>\n",
       "                        <td id=\"T_32b90_row7_col3\" class=\"data row7 col3\" >434.6764</td>\n",
       "                        <td id=\"T_32b90_row7_col4\" class=\"data row7 col4\" >-0.2868</td>\n",
       "                        <td id=\"T_32b90_row7_col5\" class=\"data row7 col5\" >0.1445</td>\n",
       "                        <td id=\"T_32b90_row7_col6\" class=\"data row7 col6\" >0.1098</td>\n",
       "                        <td id=\"T_32b90_row7_col7\" class=\"data row7 col7\" >0.0567</td>\n",
       "            </tr>\n",
       "            <tr>\n",
       "                        <th id=\"T_32b90_level0_row8\" class=\"row_heading level0 row8\" >ada</th>\n",
       "                        <td id=\"T_32b90_row8_col0\" class=\"data row8 col0\" >AdaBoost Regressor</td>\n",
       "                        <td id=\"T_32b90_row8_col1\" class=\"data row8 col1\" >359.7444</td>\n",
       "                        <td id=\"T_32b90_row8_col2\" class=\"data row8 col2\" >205411.4173</td>\n",
       "                        <td id=\"T_32b90_row8_col3\" class=\"data row8 col3\" >443.1730</td>\n",
       "                        <td id=\"T_32b90_row8_col4\" class=\"data row8 col4\" >-0.3448</td>\n",
       "                        <td id=\"T_32b90_row8_col5\" class=\"data row8 col5\" >0.1472</td>\n",
       "                        <td id=\"T_32b90_row8_col6\" class=\"data row8 col6\" >0.1129</td>\n",
       "                        <td id=\"T_32b90_row8_col7\" class=\"data row8 col7\" >0.0300</td>\n",
       "            </tr>\n",
       "            <tr>\n",
       "                        <th id=\"T_32b90_level0_row9\" class=\"row_heading level0 row9\" >rf</th>\n",
       "                        <td id=\"T_32b90_row9_col0\" class=\"data row9 col0\" >Random Forest Regressor</td>\n",
       "                        <td id=\"T_32b90_row9_col1\" class=\"data row9 col1\" >345.7391</td>\n",
       "                        <td id=\"T_32b90_row9_col2\" class=\"data row9 col2\" >210915.5866</td>\n",
       "                        <td id=\"T_32b90_row9_col3\" class=\"data row9 col3\" >449.3528</td>\n",
       "                        <td id=\"T_32b90_row9_col4\" class=\"data row9 col4\" >-0.3744</td>\n",
       "                        <td id=\"T_32b90_row9_col5\" class=\"data row9 col5\" >0.1471</td>\n",
       "                        <td id=\"T_32b90_row9_col6\" class=\"data row9 col6\" >0.1072</td>\n",
       "                        <td id=\"T_32b90_row9_col7\" class=\"data row9 col7\" >0.0800</td>\n",
       "            </tr>\n",
       "            <tr>\n",
       "                        <th id=\"T_32b90_level0_row10\" class=\"row_heading level0 row10\" >en</th>\n",
       "                        <td id=\"T_32b90_row10_col0\" class=\"data row10 col0\" >Elastic Net</td>\n",
       "                        <td id=\"T_32b90_row10_col1\" class=\"data row10 col1\" >405.9163</td>\n",
       "                        <td id=\"T_32b90_row10_col2\" class=\"data row10 col2\" >274599.0208</td>\n",
       "                        <td id=\"T_32b90_row10_col3\" class=\"data row10 col3\" >511.5796</td>\n",
       "                        <td id=\"T_32b90_row10_col4\" class=\"data row10 col4\" >-0.8960</td>\n",
       "                        <td id=\"T_32b90_row10_col5\" class=\"data row10 col5\" >0.1728</td>\n",
       "                        <td id=\"T_32b90_row10_col6\" class=\"data row10 col6\" >0.1267</td>\n",
       "                        <td id=\"T_32b90_row10_col7\" class=\"data row10 col7\" >0.0100</td>\n",
       "            </tr>\n",
       "            <tr>\n",
       "                        <th id=\"T_32b90_level0_row11\" class=\"row_heading level0 row11\" >omp</th>\n",
       "                        <td id=\"T_32b90_row11_col0\" class=\"data row11 col0\" >Orthogonal Matching Pursuit</td>\n",
       "                        <td id=\"T_32b90_row11_col1\" class=\"data row11 col1\" >484.3148</td>\n",
       "                        <td id=\"T_32b90_row11_col2\" class=\"data row11 col2\" >366829.7665</td>\n",
       "                        <td id=\"T_32b90_row11_col3\" class=\"data row11 col3\" >553.7995</td>\n",
       "                        <td id=\"T_32b90_row11_col4\" class=\"data row11 col4\" >-1.6009</td>\n",
       "                        <td id=\"T_32b90_row11_col5\" class=\"data row11 col5\" >0.2006</td>\n",
       "                        <td id=\"T_32b90_row11_col6\" class=\"data row11 col6\" >0.1573</td>\n",
       "                        <td id=\"T_32b90_row11_col7\" class=\"data row11 col7\" >0.0100</td>\n",
       "            </tr>\n",
       "            <tr>\n",
       "                        <th id=\"T_32b90_level0_row12\" class=\"row_heading level0 row12\" >lasso</th>\n",
       "                        <td id=\"T_32b90_row12_col0\" class=\"data row12 col0\" >Lasso Regression</td>\n",
       "                        <td id=\"T_32b90_row12_col1\" class=\"data row12 col1\" >449.8260</td>\n",
       "                        <td id=\"T_32b90_row12_col2\" class=\"data row12 col2\" >333797.2917</td>\n",
       "                        <td id=\"T_32b90_row12_col3\" class=\"data row12 col3\" >560.1394</td>\n",
       "                        <td id=\"T_32b90_row12_col4\" class=\"data row12 col4\" >-1.2309</td>\n",
       "                        <td id=\"T_32b90_row12_col5\" class=\"data row12 col5\" >0.1898</td>\n",
       "                        <td id=\"T_32b90_row12_col6\" class=\"data row12 col6\" >0.1395</td>\n",
       "                        <td id=\"T_32b90_row12_col7\" class=\"data row12 col7\" >1.3167</td>\n",
       "            </tr>\n",
       "            <tr>\n",
       "                        <th id=\"T_32b90_level0_row13\" class=\"row_heading level0 row13\" >par</th>\n",
       "                        <td id=\"T_32b90_row13_col0\" class=\"data row13 col0\" >Passive Aggressive Regressor</td>\n",
       "                        <td id=\"T_32b90_row13_col1\" class=\"data row13 col1\" >496.1058</td>\n",
       "                        <td id=\"T_32b90_row13_col2\" class=\"data row13 col2\" >380859.1993</td>\n",
       "                        <td id=\"T_32b90_row13_col3\" class=\"data row13 col3\" >581.8584</td>\n",
       "                        <td id=\"T_32b90_row13_col4\" class=\"data row13 col4\" >-1.4049</td>\n",
       "                        <td id=\"T_32b90_row13_col5\" class=\"data row13 col5\" >0.1966</td>\n",
       "                        <td id=\"T_32b90_row13_col6\" class=\"data row13 col6\" >0.1547</td>\n",
       "                        <td id=\"T_32b90_row13_col7\" class=\"data row13 col7\" >0.0100</td>\n",
       "            </tr>\n",
       "            <tr>\n",
       "                        <th id=\"T_32b90_level0_row14\" class=\"row_heading level0 row14\" >knn</th>\n",
       "                        <td id=\"T_32b90_row14_col0\" class=\"data row14 col0\" >K Neighbors Regressor</td>\n",
       "                        <td id=\"T_32b90_row14_col1\" class=\"data row14 col1\" >470.0901</td>\n",
       "                        <td id=\"T_32b90_row14_col2\" class=\"data row14 col2\" >378924.0839</td>\n",
       "                        <td id=\"T_32b90_row14_col3\" class=\"data row14 col3\" >595.1958</td>\n",
       "                        <td id=\"T_32b90_row14_col4\" class=\"data row14 col4\" >-1.4098</td>\n",
       "                        <td id=\"T_32b90_row14_col5\" class=\"data row14 col5\" >0.1995</td>\n",
       "                        <td id=\"T_32b90_row14_col6\" class=\"data row14 col6\" >0.1432</td>\n",
       "                        <td id=\"T_32b90_row14_col7\" class=\"data row14 col7\" >0.0167</td>\n",
       "            </tr>\n",
       "            <tr>\n",
       "                        <th id=\"T_32b90_level0_row15\" class=\"row_heading level0 row15\" >llar</th>\n",
       "                        <td id=\"T_32b90_row15_col0\" class=\"data row15 col0\" >Lasso Least Angle Regression</td>\n",
       "                        <td id=\"T_32b90_row15_col1\" class=\"data row15 col1\" >821.9988</td>\n",
       "                        <td id=\"T_32b90_row15_col2\" class=\"data row15 col2\" >1012054.7968</td>\n",
       "                        <td id=\"T_32b90_row15_col3\" class=\"data row15 col3\" >909.7161</td>\n",
       "                        <td id=\"T_32b90_row15_col4\" class=\"data row15 col4\" >-4.4611</td>\n",
       "                        <td id=\"T_32b90_row15_col5\" class=\"data row15 col5\" >0.3240</td>\n",
       "                        <td id=\"T_32b90_row15_col6\" class=\"data row15 col6\" >0.2456</td>\n",
       "                        <td id=\"T_32b90_row15_col7\" class=\"data row15 col7\" >0.0133</td>\n",
       "            </tr>\n",
       "            <tr>\n",
       "                        <th id=\"T_32b90_level0_row16\" class=\"row_heading level0 row16\" >lightgbm</th>\n",
       "                        <td id=\"T_32b90_row16_col0\" class=\"data row16 col0\" >Light Gradient Boosting Machine</td>\n",
       "                        <td id=\"T_32b90_row16_col1\" class=\"data row16 col1\" >821.9988</td>\n",
       "                        <td id=\"T_32b90_row16_col2\" class=\"data row16 col2\" >1012054.7950</td>\n",
       "                        <td id=\"T_32b90_row16_col3\" class=\"data row16 col3\" >909.7161</td>\n",
       "                        <td id=\"T_32b90_row16_col4\" class=\"data row16 col4\" >-4.4611</td>\n",
       "                        <td id=\"T_32b90_row16_col5\" class=\"data row16 col5\" >0.3240</td>\n",
       "                        <td id=\"T_32b90_row16_col6\" class=\"data row16 col6\" >0.2456</td>\n",
       "                        <td id=\"T_32b90_row16_col7\" class=\"data row16 col7\" >0.2867</td>\n",
       "            </tr>\n",
       "            <tr>\n",
       "                        <th id=\"T_32b90_level0_row17\" class=\"row_heading level0 row17\" >dummy</th>\n",
       "                        <td id=\"T_32b90_row17_col0\" class=\"data row17 col0\" >Dummy Regressor</td>\n",
       "                        <td id=\"T_32b90_row17_col1\" class=\"data row17 col1\" >821.9988</td>\n",
       "                        <td id=\"T_32b90_row17_col2\" class=\"data row17 col2\" >1012054.7942</td>\n",
       "                        <td id=\"T_32b90_row17_col3\" class=\"data row17 col3\" >909.7161</td>\n",
       "                        <td id=\"T_32b90_row17_col4\" class=\"data row17 col4\" >-4.4611</td>\n",
       "                        <td id=\"T_32b90_row17_col5\" class=\"data row17 col5\" >0.3240</td>\n",
       "                        <td id=\"T_32b90_row17_col6\" class=\"data row17 col6\" >0.2456</td>\n",
       "                        <td id=\"T_32b90_row17_col7\" class=\"data row17 col7\" >0.0100</td>\n",
       "            </tr>\n",
       "    </tbody></table>"
      ],
      "text/plain": [
       "<pandas.io.formats.style.Styler at 0x2a5feb2edf0>"
      ]
     },
     "metadata": {},
     "output_type": "display_data"
    }
   ],
   "source": [
    "best = compare_models(sort = 'RMSE') #Super fast Library\n",
    "#Best Values for Huber Regression RMSE = 350.2645"
   ]
  },
  {
   "cell_type": "code",
   "execution_count": 51,
   "id": "55dbb816",
   "metadata": {
    "ExecuteTime": {
     "end_time": "2022-02-23T10:59:09.965380Z",
     "start_time": "2022-02-23T10:59:09.821447Z"
    }
   },
   "outputs": [
    {
     "data": {
      "text/html": [
       "<style  type=\"text/css\" >\n",
       "</style><table id=\"T_a7f0d_\" ><thead>    <tr>        <th class=\"blank level0\" ></th>        <th class=\"col_heading level0 col0\" >Model</th>        <th class=\"col_heading level0 col1\" >MAE</th>        <th class=\"col_heading level0 col2\" >MSE</th>        <th class=\"col_heading level0 col3\" >RMSE</th>        <th class=\"col_heading level0 col4\" >R2</th>        <th class=\"col_heading level0 col5\" >RMSLE</th>        <th class=\"col_heading level0 col6\" >MAPE</th>    </tr></thead><tbody>\n",
       "                <tr>\n",
       "                        <th id=\"T_a7f0d_level0_row0\" class=\"row_heading level0 row0\" >0</th>\n",
       "                        <td id=\"T_a7f0d_row0_col0\" class=\"data row0 col0\" >Huber Regressor</td>\n",
       "                        <td id=\"T_a7f0d_row0_col1\" class=\"data row0 col1\" >113.8057</td>\n",
       "                        <td id=\"T_a7f0d_row0_col2\" class=\"data row0 col2\" >30294.5364</td>\n",
       "                        <td id=\"T_a7f0d_row0_col3\" class=\"data row0 col3\" >174.0533</td>\n",
       "                        <td id=\"T_a7f0d_row0_col4\" class=\"data row0 col4\" >0.8742</td>\n",
       "                        <td id=\"T_a7f0d_row0_col5\" class=\"data row0 col5\" >0.0342</td>\n",
       "                        <td id=\"T_a7f0d_row0_col6\" class=\"data row0 col6\" >0.0244</td>\n",
       "            </tr>\n",
       "    </tbody></table>"
      ],
      "text/plain": [
       "<pandas.io.formats.style.Styler at 0x2a585489c70>"
      ]
     },
     "metadata": {},
     "output_type": "display_data"
    }
   ],
   "source": [
    "prediction_holdout = predict_model(best)"
   ]
  },
  {
   "cell_type": "code",
   "execution_count": 52,
   "id": "9cb09c55",
   "metadata": {
    "ExecuteTime": {
     "end_time": "2022-02-23T10:59:10.143212Z",
     "start_time": "2022-02-23T10:59:09.965380Z"
    }
   },
   "outputs": [
    {
     "data": {
      "text/html": [
       "<div>\n",
       "<style scoped>\n",
       "    .dataframe tbody tr th:only-of-type {\n",
       "        vertical-align: middle;\n",
       "    }\n",
       "\n",
       "    .dataframe tbody tr th {\n",
       "        vertical-align: top;\n",
       "    }\n",
       "\n",
       "    .dataframe thead th {\n",
       "        text-align: right;\n",
       "    }\n",
       "</style>\n",
       "<table border=\"1\" class=\"dataframe\">\n",
       "  <thead>\n",
       "    <tr style=\"text-align: right;\">\n",
       "      <th></th>\n",
       "      <th>t</th>\n",
       "      <th>years</th>\n",
       "      <th>quarters</th>\n",
       "      <th>Sales</th>\n",
       "      <th>Label</th>\n",
       "    </tr>\n",
       "  </thead>\n",
       "  <tbody>\n",
       "    <tr>\n",
       "      <th>0</th>\n",
       "      <td>1</td>\n",
       "      <td>86</td>\n",
       "      <td>Q1</td>\n",
       "      <td>1734.827000</td>\n",
       "      <td>1575.795937</td>\n",
       "    </tr>\n",
       "    <tr>\n",
       "      <th>1</th>\n",
       "      <td>2</td>\n",
       "      <td>86</td>\n",
       "      <td>Q2</td>\n",
       "      <td>2244.960999</td>\n",
       "      <td>1916.533205</td>\n",
       "    </tr>\n",
       "    <tr>\n",
       "      <th>2</th>\n",
       "      <td>3</td>\n",
       "      <td>86</td>\n",
       "      <td>Q3</td>\n",
       "      <td>2533.804993</td>\n",
       "      <td>1892.576027</td>\n",
       "    </tr>\n",
       "    <tr>\n",
       "      <th>3</th>\n",
       "      <td>4</td>\n",
       "      <td>86</td>\n",
       "      <td>Q4</td>\n",
       "      <td>2154.962997</td>\n",
       "      <td>1779.082826</td>\n",
       "    </tr>\n",
       "    <tr>\n",
       "      <th>4</th>\n",
       "      <td>5</td>\n",
       "      <td>87</td>\n",
       "      <td>Q1</td>\n",
       "      <td>1547.818996</td>\n",
       "      <td>1709.488701</td>\n",
       "    </tr>\n",
       "  </tbody>\n",
       "</table>\n",
       "</div>"
      ],
      "text/plain": [
       "   t years quarters        Sales        Label\n",
       "0  1    86       Q1  1734.827000  1575.795937\n",
       "1  2    86       Q2  2244.960999  1916.533205\n",
       "2  3    86       Q3  2533.804993  1892.576027\n",
       "3  4    86       Q4  2154.962997  1779.082826\n",
       "4  5    87       Q1  1547.818996  1709.488701"
      ]
     },
     "execution_count": 52,
     "metadata": {},
     "output_type": "execute_result"
    }
   ],
   "source": [
    "# generate predictions on the original dataset\n",
    "predictions = predict_model(best, data=data1)\n",
    "predictions.head()"
   ]
  },
  {
   "cell_type": "code",
   "execution_count": 53,
   "id": "15dccde8",
   "metadata": {
    "ExecuteTime": {
     "end_time": "2022-02-23T10:59:10.175188Z",
     "start_time": "2022-02-23T10:59:10.143212Z"
    },
    "scrolled": true
   },
   "outputs": [
    {
     "data": {
      "text/html": [
       "<div>\n",
       "<style scoped>\n",
       "    .dataframe tbody tr th:only-of-type {\n",
       "        vertical-align: middle;\n",
       "    }\n",
       "\n",
       "    .dataframe tbody tr th {\n",
       "        vertical-align: top;\n",
       "    }\n",
       "\n",
       "    .dataframe thead th {\n",
       "        text-align: right;\n",
       "    }\n",
       "</style>\n",
       "<table border=\"1\" class=\"dataframe\">\n",
       "  <thead>\n",
       "    <tr style=\"text-align: right;\">\n",
       "      <th></th>\n",
       "      <th>t</th>\n",
       "      <th>years</th>\n",
       "      <th>quarters</th>\n",
       "      <th>Sales</th>\n",
       "      <th>Label</th>\n",
       "      <th>Date</th>\n",
       "    </tr>\n",
       "  </thead>\n",
       "  <tbody>\n",
       "    <tr>\n",
       "      <th>0</th>\n",
       "      <td>1</td>\n",
       "      <td>86</td>\n",
       "      <td>Q1</td>\n",
       "      <td>1734.827000</td>\n",
       "      <td>1575.795937</td>\n",
       "      <td>1986-03-31</td>\n",
       "    </tr>\n",
       "    <tr>\n",
       "      <th>1</th>\n",
       "      <td>2</td>\n",
       "      <td>86</td>\n",
       "      <td>Q2</td>\n",
       "      <td>2244.960999</td>\n",
       "      <td>1916.533205</td>\n",
       "      <td>1986-06-30</td>\n",
       "    </tr>\n",
       "    <tr>\n",
       "      <th>2</th>\n",
       "      <td>3</td>\n",
       "      <td>86</td>\n",
       "      <td>Q3</td>\n",
       "      <td>2533.804993</td>\n",
       "      <td>1892.576027</td>\n",
       "      <td>1986-09-30</td>\n",
       "    </tr>\n",
       "    <tr>\n",
       "      <th>3</th>\n",
       "      <td>4</td>\n",
       "      <td>86</td>\n",
       "      <td>Q4</td>\n",
       "      <td>2154.962997</td>\n",
       "      <td>1779.082826</td>\n",
       "      <td>1986-12-31</td>\n",
       "    </tr>\n",
       "    <tr>\n",
       "      <th>4</th>\n",
       "      <td>5</td>\n",
       "      <td>87</td>\n",
       "      <td>Q1</td>\n",
       "      <td>1547.818996</td>\n",
       "      <td>1709.488701</td>\n",
       "      <td>1987-03-31</td>\n",
       "    </tr>\n",
       "  </tbody>\n",
       "</table>\n",
       "</div>"
      ],
      "text/plain": [
       "   t years quarters        Sales        Label       Date\n",
       "0  1    86       Q1  1734.827000  1575.795937 1986-03-31\n",
       "1  2    86       Q2  2244.960999  1916.533205 1986-06-30\n",
       "2  3    86       Q3  2533.804993  1892.576027 1986-09-30\n",
       "3  4    86       Q4  2154.962997  1779.082826 1986-12-31\n",
       "4  5    87       Q1  1547.818996  1709.488701 1987-03-31"
      ]
     },
     "execution_count": 53,
     "metadata": {},
     "output_type": "execute_result"
    }
   ],
   "source": [
    "# add a date column in the dataset\n",
    "predictions['Date'] = pd.date_range(start='1986-01-01', end = '1996-07-01', freq = 'Q')\n",
    "data_ma = predictions.copy()\n",
    "data4 =  predictions.copy()\n",
    "predictions.head()"
   ]
  },
  {
   "cell_type": "code",
   "execution_count": 54,
   "id": "46cb9963",
   "metadata": {
    "ExecuteTime": {
     "end_time": "2022-02-23T10:59:10.479460Z",
     "start_time": "2022-02-23T10:59:10.177043Z"
    },
    "scrolled": false
   },
   "outputs": [
    {
     "data": {
      "text/plain": [
       "<AxesSubplot:xlabel='Date', ylabel='Value'>"
      ]
     },
     "execution_count": 54,
     "metadata": {},
     "output_type": "execute_result"
    },
    {
     "data": {
      "image/png": "[encoded data removed]",
      "text/plain": [
       "<Figure size 576x396 with 1 Axes>"
      ]
     },
     "metadata": {},
     "output_type": "display_data"
    }
   ],
   "source": [
    "# line plot - View for the entire dataset\n",
    "\n",
    "viz1 = predictions.loc[:,[\"Date\",\"Sales\",\"Label\"]].melt(\"Date\",var_name=\"predV/sTrue\",value_name=\"Value\")\n",
    "sns.lineplot(data=viz1, x=viz1.Date, y=viz1.Value,hue=\"predV/sTrue\",palette=[\"aqua\",\"red\"])\n",
    "#Lesser Variance as compared to previous case"
   ]
  },
  {
   "cell_type": "code",
   "execution_count": 55,
   "id": "d9cc0fb8",
   "metadata": {
    "ExecuteTime": {
     "end_time": "2022-02-23T10:59:10.751642Z",
     "start_time": "2022-02-23T10:59:10.479460Z"
    }
   },
   "outputs": [
    {
     "data": {
      "text/plain": [
       "<AxesSubplot:xlabel='Date', ylabel='Value'>"
      ]
     },
     "execution_count": 55,
     "metadata": {},
     "output_type": "execute_result"
    },
    {
     "data": {
      "image/png": "[encoded data removed]",
      "text/plain": [
       "<Figure size 576x396 with 1 Axes>"
      ]
     },
     "metadata": {},
     "output_type": "display_data"
    }
   ],
   "source": [
    "# line plot - View for Train vs test\n",
    "\n",
    "predictions.Label.iloc[:35] = np.nan\n",
    "predictions.Sales.iloc[35:] = np.nan\n",
    "\n",
    "viz4 = predictions.loc[:,[\"Date\",\"Sales\",\"Label\"]].melt(\"Date\",var_name=\"predV/sTrue\",value_name=\"Value\")\n",
    "sns.lineplot(data=viz4, x=viz4.Date, y=viz4.Value,hue=\"predV/sTrue\",palette=[\"aqua\",\"red\"])\n",
    "#Lesser Variance compared to previous cases"
   ]
  },
  {
   "cell_type": "markdown",
   "id": "03f9cf27",
   "metadata": {},
   "source": [
    "### Data Driven Forecasting Techniques\n",
    "\n",
    "#### Moving Averages"
   ]
  },
  {
   "cell_type": "code",
   "execution_count": 56,
   "id": "5a7c7b2e",
   "metadata": {
    "ExecuteTime": {
     "end_time": "2022-02-23T10:59:10.767621Z",
     "start_time": "2022-02-23T10:59:10.751642Z"
    }
   },
   "outputs": [],
   "source": [
    "#Make seperate dataset\n",
    "\n",
    "data_ma = data_ma.set_index('Date')\n",
    "\n",
    "#Simple Moving Average SMA\n",
    "data_ma['3-month-SMA'] = data_ma['Sales'].rolling(window=3).mean()\n",
    "data_ma['6-month-SMA'] = data_ma['Sales'].rolling(window=6).mean()\n",
    "data_ma['12-month-SMA'] = data_ma['Sales'].rolling(window=12).mean()"
   ]
  },
  {
   "cell_type": "code",
   "execution_count": 57,
   "id": "bf5b8f45",
   "metadata": {
    "ExecuteTime": {
     "end_time": "2022-02-23T10:59:11.073820Z",
     "start_time": "2022-02-23T10:59:10.767621Z"
    },
    "scrolled": false
   },
   "outputs": [
    {
     "data": {
      "text/plain": [
       "<AxesSubplot:xlabel='Date'>"
      ]
     },
     "execution_count": 57,
     "metadata": {},
     "output_type": "execute_result"
    },
    {
     "data": {
      "image/png": "[encoded data removed]",
      "text/plain": [
       "<Figure size 576x396 with 1 Axes>"
      ]
     },
     "metadata": {},
     "output_type": "display_data"
    }
   ],
   "source": [
    "sns.lineplot(data=data_ma[['3-month-SMA','6-month-SMA','12-month-SMA']],palette=[\"deeppink\",\"lime\",\"aqua\"]) #SMA Plot"
   ]
  },
  {
   "cell_type": "code",
   "execution_count": 58,
   "id": "f95f1dee",
   "metadata": {
    "ExecuteTime": {
     "end_time": "2022-02-23T10:59:11.089711Z",
     "start_time": "2022-02-23T10:59:11.073820Z"
    }
   },
   "outputs": [
    {
     "data": {
      "text/plain": [
       "530.974317734843"
      ]
     },
     "execution_count": 58,
     "metadata": {},
     "output_type": "execute_result"
    }
   ],
   "source": [
    "#for 3-Months only since it will have the lowest SMA\n",
    "data_ma['3-month-SMA']=data_ma['3-month-SMA'].fillna(0)\n",
    "rmse_SMA_3Months = mean_squared_error(data_ma.Sales,data_ma['3-month-SMA'], squared=False)\n",
    "pfm_data_bsd.update({'SMA-3Months':rmse_SMA_3Months}) \n",
    "rmse_SMA_3Months"
   ]
  },
  {
   "cell_type": "code",
   "execution_count": 59,
   "id": "6472efcf",
   "metadata": {
    "ExecuteTime": {
     "end_time": "2022-02-23T10:59:11.362660Z",
     "start_time": "2022-02-23T10:59:11.089711Z"
    }
   },
   "outputs": [
    {
     "data": {
      "text/plain": [
       "<AxesSubplot:xlabel='Date'>"
      ]
     },
     "execution_count": 59,
     "metadata": {},
     "output_type": "execute_result"
    },
    {
     "data": {
      "image/png": "[encoded data removed]",
      "text/plain": [
       "<Figure size 576x396 with 1 Axes>"
      ]
     },
     "metadata": {},
     "output_type": "display_data"
    }
   ],
   "source": [
    "#Exponentially Weighted Moving Average EWMA\n",
    "data_ma['EWMA3'] = data_ma['Sales'].ewm(span=3,adjust=True).mean() #3month Span\n",
    "\n",
    "#Line Plot EWMA\n",
    "sns.lineplot(data=data_ma[[\"Sales\",\"EWMA3\"]],palette=[\"deeppink\",\"lime\"]) #SMA Plot"
   ]
  },
  {
   "cell_type": "code",
   "execution_count": 60,
   "id": "0de3e7de",
   "metadata": {
    "ExecuteTime": {
     "end_time": "2022-02-23T10:59:11.378614Z",
     "start_time": "2022-02-23T10:59:11.362660Z"
    }
   },
   "outputs": [
    {
     "data": {
      "text/plain": [
       "199.4860437981679"
      ]
     },
     "execution_count": 60,
     "metadata": {},
     "output_type": "execute_result"
    }
   ],
   "source": [
    "#for 3-Months only since it will have the lowest EWMA\n",
    "data_ma['EWMA3'] =data_ma['EWMA3'] .fillna(0)\n",
    "rmse_EWMA3 = mean_squared_error(data_ma.Sales,data_ma['EWMA3'] , squared=False)\n",
    "pfm_data_bsd.update({'EWMA 3Months':rmse_EWMA3}) \n",
    "rmse_EWMA3 #This is a low value but it alone cannot be taken"
   ]
  },
  {
   "cell_type": "markdown",
   "id": "f52de2cd",
   "metadata": {},
   "source": [
    "#### Smoothing Techniques"
   ]
  },
  {
   "cell_type": "code",
   "execution_count": 61,
   "id": "7dbee4e1",
   "metadata": {
    "ExecuteTime": {
     "end_time": "2022-02-23T10:59:11.410601Z",
     "start_time": "2022-02-23T10:59:11.378614Z"
    }
   },
   "outputs": [
    {
     "data": {
      "text/plain": [
       "922.9178426397687"
      ]
     },
     "execution_count": 61,
     "metadata": {},
     "output_type": "execute_result"
    }
   ],
   "source": [
    "#Simple Exponential Method\n",
    "ses_model = SimpleExpSmoothing(train[\"Sales\"]).fit(smoothing_level=0.2)\n",
    "pred_ses = ses_model.predict(start = test.index[0],end = test.index[-1])\n",
    "rmse_SES = mean_squared_error(test.Sales,pred_ses, squared=False)\n",
    "pfm_data_bsd.update({'SES':rmse_SES}) \n",
    "rmse_SES"
   ]
  },
  {
   "cell_type": "code",
   "execution_count": 62,
   "id": "d16f4f48",
   "metadata": {
    "ExecuteTime": {
     "end_time": "2022-02-23T10:59:11.442575Z",
     "start_time": "2022-02-23T10:59:11.410601Z"
    }
   },
   "outputs": [
    {
     "data": {
      "text/plain": [
       "796.7270685103448"
      ]
     },
     "execution_count": 62,
     "metadata": {},
     "output_type": "execute_result"
    }
   ],
   "source": [
    "# Holt method \n",
    "hw_model = Holt(train[\"Sales\"]).fit(smoothing_level=0.8, smoothing_slope=0.2)\n",
    "pred_hw = hw_model.predict(start = test.index[0],end = test.index[-1])\n",
    "rmse_Holt = mean_squared_error(test.Sales,pred_hw, squared=False)\n",
    "pfm_data_bsd.update({'Holt':rmse_Holt}) \n",
    "rmse_Holt"
   ]
  },
  {
   "cell_type": "code",
   "execution_count": 63,
   "id": "f39c2eee",
   "metadata": {
    "ExecuteTime": {
     "end_time": "2022-02-23T10:59:16.791539Z",
     "start_time": "2022-02-23T10:59:16.657542Z"
    }
   },
   "outputs": [
    {
     "data": {
      "text/plain": [
       "181.274926620193"
      ]
     },
     "execution_count": 63,
     "metadata": {},
     "output_type": "execute_result"
    }
   ],
   "source": [
    "#Holts winter exponential smoothing with additive seasonality and additive trend\n",
    "hwe_model_add_add = ExponentialSmoothing(train[\"Sales\"],seasonal=\"add\",trend=\"add\",seasonal_periods=12).fit() #add the trend to the model\n",
    "pred_hwe_add_add = hwe_model_add_add.predict(start = test.index[0],end = test.index[-1])\n",
    "rmse_hwe_add = mean_squared_error(test.Sales,pred_hwe_add_add, squared=False)\n",
    "pfm_data_bsd.update({'HWE Add. Seas & Add. Trend':rmse_hwe_add}) \n",
    "rmse_hwe_add"
   ]
  },
  {
   "cell_type": "code",
   "execution_count": 64,
   "id": "6fd0a1f6",
   "metadata": {
    "ExecuteTime": {
     "end_time": "2022-02-23T10:59:17.311176Z",
     "start_time": "2022-02-23T10:59:17.143507Z"
    }
   },
   "outputs": [
    {
     "data": {
      "text/plain": [
       "114.39285691861073"
      ]
     },
     "execution_count": 64,
     "metadata": {},
     "output_type": "execute_result"
    }
   ],
   "source": [
    "#Holts winter exponential smoothing with multiplicative seasonality and additive trend\n",
    "hwe_model_mul_add = ExponentialSmoothing(train[\"Sales\"],seasonal=\"mul\",trend=\"add\",seasonal_periods=12).fit() \n",
    "pred_hwe_mul_add = hwe_model_mul_add.predict(start = test.index[0],end = test.index[-1])\n",
    "rmse_hwe_mul = mean_squared_error(test.Sales,pred_hwe_mul_add, squared=False)\n",
    "pfm_data_bsd.update({'HWE Mul. Seas & Add. Trend':rmse_hwe_mul}) \n",
    "rmse_hwe_mul #Very good value                                             "
   ]
  },
  {
   "cell_type": "code",
   "execution_count": 65,
   "id": "729c2744",
   "metadata": {
    "ExecuteTime": {
     "end_time": "2022-02-23T10:59:17.789529Z",
     "start_time": "2022-02-23T10:59:17.765519Z"
    }
   },
   "outputs": [
    {
     "data": {
      "text/plain": [
       "{'SMA-3Months': 530.974317734843,\n",
       " 'EWMA 3Months': 199.4860437981679,\n",
       " 'SES': 922.9178426397687,\n",
       " 'Holt': 796.7270685103448,\n",
       " 'HWE Add. Seas & Add. Trend': 181.274926620193,\n",
       " 'HWE Mul. Seas & Add. Trend': 114.39285691861073}"
      ]
     },
     "execution_count": 65,
     "metadata": {},
     "output_type": "execute_result"
    }
   ],
   "source": [
    "pfm_data_bsd"
   ]
  },
  {
   "cell_type": "code",
   "execution_count": 66,
   "id": "b1aec388",
   "metadata": {
    "ExecuteTime": {
     "end_time": "2022-02-23T10:59:18.727360Z",
     "start_time": "2022-02-23T10:59:18.703344Z"
    }
   },
   "outputs": [
    {
     "data": {
      "text/html": [
       "<div>\n",
       "<style scoped>\n",
       "    .dataframe tbody tr th:only-of-type {\n",
       "        vertical-align: middle;\n",
       "    }\n",
       "\n",
       "    .dataframe tbody tr th {\n",
       "        vertical-align: top;\n",
       "    }\n",
       "\n",
       "    .dataframe thead th {\n",
       "        text-align: right;\n",
       "    }\n",
       "</style>\n",
       "<table border=\"1\" class=\"dataframe\">\n",
       "  <thead>\n",
       "    <tr style=\"text-align: right;\">\n",
       "      <th></th>\n",
       "      <th>MODEL</th>\n",
       "      <th>RMSE</th>\n",
       "    </tr>\n",
       "  </thead>\n",
       "  <tbody>\n",
       "    <tr>\n",
       "      <th>5</th>\n",
       "      <td>HWE Mul. Seas &amp; Add. Trend</td>\n",
       "      <td>114.392857</td>\n",
       "    </tr>\n",
       "    <tr>\n",
       "      <th>4</th>\n",
       "      <td>HWE Add. Seas &amp; Add. Trend</td>\n",
       "      <td>181.274927</td>\n",
       "    </tr>\n",
       "    <tr>\n",
       "      <th>1</th>\n",
       "      <td>EWMA 3Months</td>\n",
       "      <td>199.486044</td>\n",
       "    </tr>\n",
       "    <tr>\n",
       "      <th>0</th>\n",
       "      <td>SMA-3Months</td>\n",
       "      <td>530.974318</td>\n",
       "    </tr>\n",
       "    <tr>\n",
       "      <th>3</th>\n",
       "      <td>Holt</td>\n",
       "      <td>796.727069</td>\n",
       "    </tr>\n",
       "    <tr>\n",
       "      <th>2</th>\n",
       "      <td>SES</td>\n",
       "      <td>922.917843</td>\n",
       "    </tr>\n",
       "  </tbody>\n",
       "</table>\n",
       "</div>"
      ],
      "text/plain": [
       "                        MODEL        RMSE\n",
       "5  HWE Mul. Seas & Add. Trend  114.392857\n",
       "4  HWE Add. Seas & Add. Trend  181.274927\n",
       "1                EWMA 3Months  199.486044\n",
       "0                 SMA-3Months  530.974318\n",
       "3                        Holt  796.727069\n",
       "2                         SES  922.917843"
      ]
     },
     "execution_count": 66,
     "metadata": {},
     "output_type": "execute_result"
    }
   ],
   "source": [
    "result_data_bsd = pd.DataFrame(pfm_data_bsd.items(),columns=['MODEL', 'RMSE'])\n",
    "result_data_bsd.sort_values(by=['RMSE'])\n",
    "#Lowest RSME values are for HWE Multiplicative Seasonality and Additive Trend"
   ]
  },
  {
   "cell_type": "markdown",
   "id": "065dd447",
   "metadata": {},
   "source": [
    "###### Model Evaluation - HWE Multiplicative Seasonality and Additive Trend"
   ]
  },
  {
   "cell_type": "code",
   "execution_count": 67,
   "id": "387a53ef",
   "metadata": {
    "ExecuteTime": {
     "end_time": "2022-02-23T10:59:19.506801Z",
     "start_time": "2022-02-23T10:59:19.482786Z"
    }
   },
   "outputs": [
    {
     "data": {
      "text/html": [
       "<div>\n",
       "<style scoped>\n",
       "    .dataframe tbody tr th:only-of-type {\n",
       "        vertical-align: middle;\n",
       "    }\n",
       "\n",
       "    .dataframe tbody tr th {\n",
       "        vertical-align: top;\n",
       "    }\n",
       "\n",
       "    .dataframe thead th {\n",
       "        text-align: right;\n",
       "    }\n",
       "</style>\n",
       "<table border=\"1\" class=\"dataframe\">\n",
       "  <thead>\n",
       "    <tr style=\"text-align: right;\">\n",
       "      <th></th>\n",
       "      <th>t</th>\n",
       "      <th>years</th>\n",
       "      <th>quarters</th>\n",
       "      <th>Sales</th>\n",
       "      <th>predicted</th>\n",
       "    </tr>\n",
       "  </thead>\n",
       "  <tbody>\n",
       "    <tr>\n",
       "      <th>0</th>\n",
       "      <td>1</td>\n",
       "      <td>86</td>\n",
       "      <td>Q1</td>\n",
       "      <td>1734.827000</td>\n",
       "      <td>1697.857626</td>\n",
       "    </tr>\n",
       "    <tr>\n",
       "      <th>1</th>\n",
       "      <td>2</td>\n",
       "      <td>86</td>\n",
       "      <td>Q2</td>\n",
       "      <td>2244.960999</td>\n",
       "      <td>2155.283409</td>\n",
       "    </tr>\n",
       "    <tr>\n",
       "      <th>2</th>\n",
       "      <td>3</td>\n",
       "      <td>86</td>\n",
       "      <td>Q3</td>\n",
       "      <td>2533.804993</td>\n",
       "      <td>2378.576487</td>\n",
       "    </tr>\n",
       "    <tr>\n",
       "      <th>3</th>\n",
       "      <td>4</td>\n",
       "      <td>86</td>\n",
       "      <td>Q4</td>\n",
       "      <td>2154.962997</td>\n",
       "      <td>2218.898250</td>\n",
       "    </tr>\n",
       "    <tr>\n",
       "      <th>4</th>\n",
       "      <td>5</td>\n",
       "      <td>87</td>\n",
       "      <td>Q1</td>\n",
       "      <td>1547.818996</td>\n",
       "      <td>1872.463561</td>\n",
       "    </tr>\n",
       "  </tbody>\n",
       "</table>\n",
       "</div>"
      ],
      "text/plain": [
       "   t years quarters        Sales    predicted\n",
       "0  1    86       Q1  1734.827000  1697.857626\n",
       "1  2    86       Q2  2244.960999  2155.283409\n",
       "2  3    86       Q3  2533.804993  2378.576487\n",
       "3  4    86       Q4  2154.962997  2218.898250\n",
       "4  5    87       Q1  1547.818996  1872.463561"
      ]
     },
     "execution_count": 67,
     "metadata": {},
     "output_type": "execute_result"
    }
   ],
   "source": [
    "hwe_mul_model = hwe_model_mul_add.predict(start = data.index[0],end = data.index[-1])\n",
    "data3['predicted'] = hwe_mul_model\n",
    "data3.head()"
   ]
  },
  {
   "cell_type": "code",
   "execution_count": 68,
   "id": "f9f4f054",
   "metadata": {
    "ExecuteTime": {
     "end_time": "2022-02-23T10:59:20.074816Z",
     "start_time": "2022-02-23T10:59:20.045756Z"
    }
   },
   "outputs": [
    {
     "data": {
      "text/html": [
       "<div>\n",
       "<style scoped>\n",
       "    .dataframe tbody tr th:only-of-type {\n",
       "        vertical-align: middle;\n",
       "    }\n",
       "\n",
       "    .dataframe tbody tr th {\n",
       "        vertical-align: top;\n",
       "    }\n",
       "\n",
       "    .dataframe thead th {\n",
       "        text-align: right;\n",
       "    }\n",
       "</style>\n",
       "<table border=\"1\" class=\"dataframe\">\n",
       "  <thead>\n",
       "    <tr style=\"text-align: right;\">\n",
       "      <th></th>\n",
       "      <th>t</th>\n",
       "      <th>years</th>\n",
       "      <th>quarters</th>\n",
       "      <th>Sales</th>\n",
       "      <th>predicted</th>\n",
       "      <th>Date</th>\n",
       "    </tr>\n",
       "  </thead>\n",
       "  <tbody>\n",
       "    <tr>\n",
       "      <th>0</th>\n",
       "      <td>1</td>\n",
       "      <td>86</td>\n",
       "      <td>Q1</td>\n",
       "      <td>1734.827000</td>\n",
       "      <td>1697.857626</td>\n",
       "      <td>1986-03-31</td>\n",
       "    </tr>\n",
       "    <tr>\n",
       "      <th>1</th>\n",
       "      <td>2</td>\n",
       "      <td>86</td>\n",
       "      <td>Q2</td>\n",
       "      <td>2244.960999</td>\n",
       "      <td>2155.283409</td>\n",
       "      <td>1986-06-30</td>\n",
       "    </tr>\n",
       "    <tr>\n",
       "      <th>2</th>\n",
       "      <td>3</td>\n",
       "      <td>86</td>\n",
       "      <td>Q3</td>\n",
       "      <td>2533.804993</td>\n",
       "      <td>2378.576487</td>\n",
       "      <td>1986-09-30</td>\n",
       "    </tr>\n",
       "    <tr>\n",
       "      <th>3</th>\n",
       "      <td>4</td>\n",
       "      <td>86</td>\n",
       "      <td>Q4</td>\n",
       "      <td>2154.962997</td>\n",
       "      <td>2218.898250</td>\n",
       "      <td>1986-12-31</td>\n",
       "    </tr>\n",
       "    <tr>\n",
       "      <th>4</th>\n",
       "      <td>5</td>\n",
       "      <td>87</td>\n",
       "      <td>Q1</td>\n",
       "      <td>1547.818996</td>\n",
       "      <td>1872.463561</td>\n",
       "      <td>1987-03-31</td>\n",
       "    </tr>\n",
       "  </tbody>\n",
       "</table>\n",
       "</div>"
      ],
      "text/plain": [
       "   t years quarters        Sales    predicted       Date\n",
       "0  1    86       Q1  1734.827000  1697.857626 1986-03-31\n",
       "1  2    86       Q2  2244.960999  2155.283409 1986-06-30\n",
       "2  3    86       Q3  2533.804993  2378.576487 1986-09-30\n",
       "3  4    86       Q4  2154.962997  2218.898250 1986-12-31\n",
       "4  5    87       Q1  1547.818996  1872.463561 1987-03-31"
      ]
     },
     "execution_count": 68,
     "metadata": {},
     "output_type": "execute_result"
    }
   ],
   "source": [
    "# add a date column in the dataset\n",
    "data3['Date'] = pd.date_range(start='1986-01-01', end = '1996-07-01', freq = 'Q')\n",
    "data3.head()"
   ]
  },
  {
   "cell_type": "code",
   "execution_count": 69,
   "id": "ad17da6a",
   "metadata": {
    "ExecuteTime": {
     "end_time": "2022-02-23T10:59:20.792081Z",
     "start_time": "2022-02-23T10:59:20.556954Z"
    }
   },
   "outputs": [
    {
     "data": {
      "text/plain": [
       "<AxesSubplot:xlabel='Date', ylabel='Value'>"
      ]
     },
     "execution_count": 69,
     "metadata": {},
     "output_type": "execute_result"
    },
    {
     "data": {
      "image/png": "[encoded data removed]",
      "text/plain": [
       "<Figure size 576x396 with 1 Axes>"
      ]
     },
     "metadata": {},
     "output_type": "display_data"
    }
   ],
   "source": [
    "# line plot - View for the entire dataset _ ASQ\n",
    "viz5 = data3.loc[:,[\"Date\",\"Sales\",\"predicted\"]].melt(\"Date\",var_name=\"predV/sTrue\",value_name=\"Value\")\n",
    "sns.lineplot(data=viz5, x=viz5.Date, y=viz5.Value,hue=\"predV/sTrue\",palette=[\"deeppink\",\"lime\"])\n",
    "#THe model has the best RMSE value"
   ]
  },
  {
   "cell_type": "code",
   "execution_count": 70,
   "id": "e0d90081",
   "metadata": {
    "ExecuteTime": {
     "end_time": "2022-02-23T10:59:21.574341Z",
     "start_time": "2022-02-23T10:59:21.336309Z"
    }
   },
   "outputs": [
    {
     "data": {
      "text/plain": [
       "<AxesSubplot:xlabel='Date', ylabel='Value'>"
      ]
     },
     "execution_count": 70,
     "metadata": {},
     "output_type": "execute_result"
    },
    {
     "data": {
      "image/png": "[encoded data removed]",
      "text/plain": [
       "<Figure size 576x396 with 1 Axes>"
      ]
     },
     "metadata": {},
     "output_type": "display_data"
    }
   ],
   "source": [
    "#Line plot - Train V/s Test Plot\n",
    "data3.predicted.iloc[:35] = np.nan\n",
    "data3.Sales.iloc[35:] = np.nan\n",
    "\n",
    "viz6 = data3.loc[:,[\"Date\",\"Sales\",\"predicted\"]].melt(\"Date\",var_name=\"predV/sTrue\",value_name=\"Value\")\n",
    "sns.lineplot(data=viz6, x=viz6.Date, y=viz6.Value,hue=\"predV/sTrue\",palette=[\"deeppink\",\"lime\"])"
   ]
  },
  {
   "cell_type": "markdown",
   "id": "76c664ca",
   "metadata": {},
   "source": [
    "#### Auto Regression Models\n",
    "- Our data has both trend and Seasonality. \n",
    "- Very less chance for it to be stationary data. \n",
    "- We will perform AD-Fuller test to determine stationarity.\n",
    "- We will observe the ACF and PACF plots to determine suitable Lags.\n",
    "- After that, we will perform LL test on each model to determine best values\n",
    "##### AD-Fuller stationarity test"
   ]
  },
  {
   "cell_type": "code",
   "execution_count": 71,
   "id": "def0de3c",
   "metadata": {
    "ExecuteTime": {
     "end_time": "2022-02-23T10:59:21.726233Z",
     "start_time": "2022-02-23T10:59:21.710274Z"
    }
   },
   "outputs": [],
   "source": [
    "from statsmodels.tsa.stattools import adfuller\n",
    "def adf_test(series):    \n",
    "    result = adfuller(series.dropna())  \n",
    "    labels = ['ADF test statistic','p-value','# lags used','# observations']\n",
    "    out = pd.Series(result[0:4],index=labels)\n",
    "    #for key,val in result[4].items():\n",
    "        #out[f'critical value ({key})']=val\n",
    "    if result[1] <= 0.05:\n",
    "        print(\"Reject the null hypothesis\")\n",
    "        print(\"Data is stationary\")\n",
    "    else:\n",
    "        print(\"Fail to reject the null hypothesis\")\n",
    "        print(\"Data is non-stationary\")"
   ]
  },
  {
   "cell_type": "code",
   "execution_count": 72,
   "id": "657195dd",
   "metadata": {
    "ExecuteTime": {
     "end_time": "2022-02-23T10:59:22.961290Z",
     "start_time": "2022-02-23T10:59:22.936776Z"
    }
   },
   "outputs": [
    {
     "data": {
      "text/html": [
       "<div>\n",
       "<style scoped>\n",
       "    .dataframe tbody tr th:only-of-type {\n",
       "        vertical-align: middle;\n",
       "    }\n",
       "\n",
       "    .dataframe tbody tr th {\n",
       "        vertical-align: top;\n",
       "    }\n",
       "\n",
       "    .dataframe thead th {\n",
       "        text-align: right;\n",
       "    }\n",
       "</style>\n",
       "<table border=\"1\" class=\"dataframe\">\n",
       "  <thead>\n",
       "    <tr style=\"text-align: right;\">\n",
       "      <th></th>\n",
       "      <th>t</th>\n",
       "      <th>years</th>\n",
       "      <th>quarters</th>\n",
       "      <th>Sales</th>\n",
       "      <th>Label</th>\n",
       "    </tr>\n",
       "    <tr>\n",
       "      <th>Date</th>\n",
       "      <th></th>\n",
       "      <th></th>\n",
       "      <th></th>\n",
       "      <th></th>\n",
       "      <th></th>\n",
       "    </tr>\n",
       "  </thead>\n",
       "  <tbody>\n",
       "    <tr>\n",
       "      <th>1986-03-31</th>\n",
       "      <td>1</td>\n",
       "      <td>86</td>\n",
       "      <td>Q1</td>\n",
       "      <td>1734.827000</td>\n",
       "      <td>1575.795937</td>\n",
       "    </tr>\n",
       "    <tr>\n",
       "      <th>1986-06-30</th>\n",
       "      <td>2</td>\n",
       "      <td>86</td>\n",
       "      <td>Q2</td>\n",
       "      <td>2244.960999</td>\n",
       "      <td>1916.533205</td>\n",
       "    </tr>\n",
       "    <tr>\n",
       "      <th>1986-09-30</th>\n",
       "      <td>3</td>\n",
       "      <td>86</td>\n",
       "      <td>Q3</td>\n",
       "      <td>2533.804993</td>\n",
       "      <td>1892.576027</td>\n",
       "    </tr>\n",
       "    <tr>\n",
       "      <th>1986-12-31</th>\n",
       "      <td>4</td>\n",
       "      <td>86</td>\n",
       "      <td>Q4</td>\n",
       "      <td>2154.962997</td>\n",
       "      <td>1779.082826</td>\n",
       "    </tr>\n",
       "    <tr>\n",
       "      <th>1987-03-31</th>\n",
       "      <td>5</td>\n",
       "      <td>87</td>\n",
       "      <td>Q1</td>\n",
       "      <td>1547.818996</td>\n",
       "      <td>1709.488701</td>\n",
       "    </tr>\n",
       "  </tbody>\n",
       "</table>\n",
       "</div>"
      ],
      "text/plain": [
       "            t years quarters        Sales        Label\n",
       "Date                                                  \n",
       "1986-03-31  1    86       Q1  1734.827000  1575.795937\n",
       "1986-06-30  2    86       Q2  2244.960999  1916.533205\n",
       "1986-09-30  3    86       Q3  2533.804993  1892.576027\n",
       "1986-12-31  4    86       Q4  2154.962997  1779.082826\n",
       "1987-03-31  5    87       Q1  1547.818996  1709.488701"
      ]
     },
     "execution_count": 72,
     "metadata": {},
     "output_type": "execute_result"
    }
   ],
   "source": [
    "data4=data4.set_index('Date')\n",
    "data4.head()"
   ]
  },
  {
   "cell_type": "code",
   "execution_count": 73,
   "id": "0090fb12",
   "metadata": {
    "ExecuteTime": {
     "end_time": "2022-02-23T10:59:23.332104Z",
     "start_time": "2022-02-23T10:59:23.300119Z"
    }
   },
   "outputs": [
    {
     "name": "stdout",
     "output_type": "stream",
     "text": [
      "Fail to reject the null hypothesis\n",
      "Data is non-stationary\n"
     ]
    }
   ],
   "source": [
    "#AD- Fuller test\n",
    "adf_test(data4[['Sales']]) #As expected, data is non stationary\n",
    "#We might need to use SARIMA test in this case"
   ]
  },
  {
   "cell_type": "code",
   "execution_count": 74,
   "id": "2c08f571",
   "metadata": {
    "ExecuteTime": {
     "end_time": "2022-02-23T10:59:23.984070Z",
     "start_time": "2022-02-23T10:59:23.685568Z"
    }
   },
   "outputs": [
    {
     "data": {
      "image/png": "[encoded data removed]",
      "text/plain": [
       "<Figure size 576x396 with 1 Axes>"
      ]
     },
     "metadata": {},
     "output_type": "display_data"
    },
    {
     "data": {
      "image/png": "[encoded data removed]",
      "text/plain": [
       "<Figure size 576x396 with 1 Axes>"
      ]
     },
     "metadata": {},
     "output_type": "display_data"
    }
   ],
   "source": [
    "#ACF and PACF Plots\n",
    "tsa_plots.plot_acf(viz,lags=12) \n",
    "#Autocorrelation Factor >> uptill 6 we have good corr() above +-2 SE [Standard Error]\n",
    "tsa_plots.plot_pacf(viz,lags=12) \n",
    "#Partial Autocorrelation Factor >> only 9 and 11 show some good corr() +-2 SE [Standard Error]\n",
    "plt.show()"
   ]
  },
  {
   "cell_type": "code",
   "execution_count": 75,
   "id": "bb477df6",
   "metadata": {
    "ExecuteTime": {
     "end_time": "2022-02-23T10:59:24.720857Z",
     "start_time": "2022-02-23T10:59:24.443665Z"
    }
   },
   "outputs": [],
   "source": [
    "# We will run a auto arima to determine the ARIME orders\n",
    "from pmdarima import auto_arima # for determining ARIMA orders"
   ]
  },
  {
   "cell_type": "code",
   "execution_count": 76,
   "id": "3a662683",
   "metadata": {
    "ExecuteTime": {
     "end_time": "2022-02-23T10:59:30.289973Z",
     "start_time": "2022-02-23T10:59:25.330701Z"
    },
    "scrolled": true
   },
   "outputs": [
    {
     "name": "stdout",
     "output_type": "stream",
     "text": [
      "Performing stepwise search to minimize aic\n",
      " ARIMA(0,1,0)(0,0,0)[0] intercept   : AIC=617.615, Time=0.02 sec\n",
      " ARIMA(1,1,0)(0,0,0)[0] intercept   : AIC=619.036, Time=0.02 sec\n",
      " ARIMA(0,1,1)(0,0,0)[0] intercept   : AIC=607.723, Time=0.08 sec\n",
      " ARIMA(0,1,0)(0,0,0)[0]             : AIC=617.215, Time=0.02 sec\n",
      " ARIMA(1,1,1)(0,0,0)[0] intercept   : AIC=608.949, Time=0.13 sec\n",
      " ARIMA(0,1,2)(0,0,0)[0] intercept   : AIC=606.079, Time=0.17 sec\n",
      " ARIMA(1,1,2)(0,0,0)[0] intercept   : AIC=607.920, Time=0.21 sec\n",
      " ARIMA(0,1,3)(0,0,0)[0] intercept   : AIC=inf, Time=0.29 sec\n",
      " ARIMA(1,1,3)(0,0,0)[0] intercept   : AIC=596.966, Time=0.31 sec\n",
      " ARIMA(2,1,3)(0,0,0)[0] intercept   : AIC=577.291, Time=0.34 sec\n",
      " ARIMA(2,1,2)(0,0,0)[0] intercept   : AIC=579.745, Time=0.32 sec\n",
      " ARIMA(3,1,3)(0,0,0)[0] intercept   : AIC=557.357, Time=0.41 sec\n",
      " ARIMA(3,1,2)(0,0,0)[0] intercept   : AIC=559.112, Time=0.32 sec\n",
      " ARIMA(4,1,3)(0,0,0)[0] intercept   : AIC=562.899, Time=0.39 sec\n",
      " ARIMA(3,1,4)(0,0,0)[0] intercept   : AIC=inf, Time=0.41 sec\n",
      " ARIMA(2,1,4)(0,0,0)[0] intercept   : AIC=582.063, Time=0.38 sec\n",
      " ARIMA(4,1,2)(0,0,0)[0] intercept   : AIC=558.473, Time=0.32 sec\n",
      " ARIMA(4,1,4)(0,0,0)[0] intercept   : AIC=569.516, Time=0.49 sec\n",
      " ARIMA(3,1,3)(0,0,0)[0]             : AIC=576.356, Time=0.31 sec\n",
      "\n",
      "Best model:  ARIMA(3,1,3)(0,0,0)[0] intercept\n",
      "Total fit time: 4.931 seconds\n"
     ]
    },
    {
     "data": {
      "text/html": [
       "<table class=\"simpletable\">\n",
       "<caption>SARIMAX Results</caption>\n",
       "<tr>\n",
       "  <th>Dep. Variable:</th>           <td>y</td>        <th>  No. Observations:  </th>    <td>42</td>   \n",
       "</tr>\n",
       "<tr>\n",
       "  <th>Model:</th>           <td>SARIMAX(3, 1, 3)</td> <th>  Log Likelihood     </th> <td>-270.679</td>\n",
       "</tr>\n",
       "<tr>\n",
       "  <th>Date:</th>            <td>Wed, 23 Feb 2022</td> <th>  AIC                </th>  <td>557.357</td>\n",
       "</tr>\n",
       "<tr>\n",
       "  <th>Time:</th>                <td>16:29:30</td>     <th>  BIC                </th>  <td>571.066</td>\n",
       "</tr>\n",
       "<tr>\n",
       "  <th>Sample:</th>                  <td>0</td>        <th>  HQIC               </th>  <td>562.349</td>\n",
       "</tr>\n",
       "<tr>\n",
       "  <th></th>                       <td> - 42</td>      <th>                     </th>     <td> </td>   \n",
       "</tr>\n",
       "<tr>\n",
       "  <th>Covariance Type:</th>        <td>opg</td>       <th>                     </th>     <td> </td>   \n",
       "</tr>\n",
       "</table>\n",
       "<table class=\"simpletable\">\n",
       "<tr>\n",
       "      <td></td>         <th>coef</th>     <th>std err</th>      <th>z</th>      <th>P>|z|</th>  <th>[0.025</th>    <th>0.975]</th>  \n",
       "</tr>\n",
       "<tr>\n",
       "  <th>intercept</th> <td>  281.4765</td> <td>   71.623</td> <td>    3.930</td> <td> 0.000</td> <td>  141.099</td> <td>  421.855</td>\n",
       "</tr>\n",
       "<tr>\n",
       "  <th>ar.L1</th>     <td>   -1.0150</td> <td>    0.053</td> <td>  -19.132</td> <td> 0.000</td> <td>   -1.119</td> <td>   -0.911</td>\n",
       "</tr>\n",
       "<tr>\n",
       "  <th>ar.L2</th>     <td>   -1.0068</td> <td>    0.063</td> <td>  -15.899</td> <td> 0.000</td> <td>   -1.131</td> <td>   -0.883</td>\n",
       "</tr>\n",
       "<tr>\n",
       "  <th>ar.L3</th>     <td>   -0.9862</td> <td>    0.024</td> <td>  -40.595</td> <td> 0.000</td> <td>   -1.034</td> <td>   -0.939</td>\n",
       "</tr>\n",
       "<tr>\n",
       "  <th>ma.L1</th>     <td>    0.9295</td> <td>    0.213</td> <td>    4.355</td> <td> 0.000</td> <td>    0.511</td> <td>    1.348</td>\n",
       "</tr>\n",
       "<tr>\n",
       "  <th>ma.L2</th>     <td>    0.5316</td> <td>    0.277</td> <td>    1.919</td> <td> 0.055</td> <td>   -0.011</td> <td>    1.075</td>\n",
       "</tr>\n",
       "<tr>\n",
       "  <th>ma.L3</th>     <td>    0.4726</td> <td>    0.174</td> <td>    2.713</td> <td> 0.007</td> <td>    0.131</td> <td>    0.814</td>\n",
       "</tr>\n",
       "<tr>\n",
       "  <th>sigma2</th>    <td> 2.021e+04</td> <td> 5348.155</td> <td>    3.779</td> <td> 0.000</td> <td> 9728.139</td> <td> 3.07e+04</td>\n",
       "</tr>\n",
       "</table>\n",
       "<table class=\"simpletable\">\n",
       "<tr>\n",
       "  <th>Ljung-Box (L1) (Q):</th>     <td>0.00</td> <th>  Jarque-Bera (JB):  </th> <td>6.03</td> \n",
       "</tr>\n",
       "<tr>\n",
       "  <th>Prob(Q):</th>                <td>0.97</td> <th>  Prob(JB):          </th> <td>0.05</td> \n",
       "</tr>\n",
       "<tr>\n",
       "  <th>Heteroskedasticity (H):</th> <td>0.58</td> <th>  Skew:              </th> <td>-0.76</td>\n",
       "</tr>\n",
       "<tr>\n",
       "  <th>Prob(H) (two-sided):</th>    <td>0.31</td> <th>  Kurtosis:          </th> <td>4.10</td> \n",
       "</tr>\n",
       "</table><br/><br/>Warnings:<br/>[1] Covariance matrix calculated using the outer product of gradients (complex-step)."
      ],
      "text/plain": [
       "<class 'statsmodels.iolib.summary.Summary'>\n",
       "\"\"\"\n",
       "                               SARIMAX Results                                \n",
       "==============================================================================\n",
       "Dep. Variable:                      y   No. Observations:                   42\n",
       "Model:               SARIMAX(3, 1, 3)   Log Likelihood                -270.679\n",
       "Date:                Wed, 23 Feb 2022   AIC                            557.357\n",
       "Time:                        16:29:30   BIC                            571.066\n",
       "Sample:                             0   HQIC                           562.349\n",
       "                                 - 42                                         \n",
       "Covariance Type:                  opg                                         \n",
       "==============================================================================\n",
       "                 coef    std err          z      P>|z|      [0.025      0.975]\n",
       "------------------------------------------------------------------------------\n",
       "intercept    281.4765     71.623      3.930      0.000     141.099     421.855\n",
       "ar.L1         -1.0150      0.053    -19.132      0.000      -1.119      -0.911\n",
       "ar.L2         -1.0068      0.063    -15.899      0.000      -1.131      -0.883\n",
       "ar.L3         -0.9862      0.024    -40.595      0.000      -1.034      -0.939\n",
       "ma.L1          0.9295      0.213      4.355      0.000       0.511       1.348\n",
       "ma.L2          0.5316      0.277      1.919      0.055      -0.011       1.075\n",
       "ma.L3          0.4726      0.174      2.713      0.007       0.131       0.814\n",
       "sigma2      2.021e+04   5348.155      3.779      0.000    9728.139    3.07e+04\n",
       "===================================================================================\n",
       "Ljung-Box (L1) (Q):                   0.00   Jarque-Bera (JB):                 6.03\n",
       "Prob(Q):                              0.97   Prob(JB):                         0.05\n",
       "Heteroskedasticity (H):               0.58   Skew:                            -0.76\n",
       "Prob(H) (two-sided):                  0.31   Kurtosis:                         4.10\n",
       "===================================================================================\n",
       "\n",
       "Warnings:\n",
       "[1] Covariance matrix calculated using the outer product of gradients (complex-step).\n",
       "\"\"\""
      ]
     },
     "execution_count": 76,
     "metadata": {},
     "output_type": "execute_result"
    }
   ],
   "source": [
    "stepwise_fit = auto_arima(data4.Sales, start_p=0, start_q=0,\n",
    "                          max_p=12, max_q=12, m=12,\n",
    "                          seasonal=False,\n",
    "                          d=None, trace=True,\n",
    "                          error_action='ignore',   # we don't want to know if an order does not work\n",
    "                          suppress_warnings=True,  # we don't want convergence warnings\n",
    "                          stepwise=True)           # set to stepwise\n",
    "\n",
    "stepwise_fit.summary()"
   ]
  },
  {
   "cell_type": "code",
   "execution_count": 77,
   "id": "68a0e306",
   "metadata": {
    "ExecuteTime": {
     "end_time": "2022-02-23T10:59:31.216606Z",
     "start_time": "2022-02-23T10:59:30.926072Z"
    },
    "scrolled": true
   },
   "outputs": [
    {
     "data": {
      "text/html": [
       "<table class=\"simpletable\">\n",
       "<caption>ARIMA Model Results</caption>\n",
       "<tr>\n",
       "  <th>Dep. Variable:</th>      <td>D.Sales</td>     <th>  No. Observations:  </th>    <td>34</td>   \n",
       "</tr>\n",
       "<tr>\n",
       "  <th>Model:</th>          <td>ARIMA(4, 1, 0)</td>  <th>  Log Likelihood     </th> <td>-226.383</td>\n",
       "</tr>\n",
       "<tr>\n",
       "  <th>Method:</th>             <td>css-mle</td>     <th>  S.D. of innovations</th>  <td>173.547</td>\n",
       "</tr>\n",
       "<tr>\n",
       "  <th>Date:</th>          <td>Wed, 23 Feb 2022</td> <th>  AIC                </th>  <td>464.765</td>\n",
       "</tr>\n",
       "<tr>\n",
       "  <th>Time:</th>              <td>16:29:31</td>     <th>  BIC                </th>  <td>473.923</td>\n",
       "</tr>\n",
       "<tr>\n",
       "  <th>Sample:</th>                <td>1</td>        <th>  HQIC               </th>  <td>467.888</td>\n",
       "</tr>\n",
       "<tr>\n",
       "  <th></th>                       <td> </td>        <th>                     </th>     <td> </td>   \n",
       "</tr>\n",
       "</table>\n",
       "<table class=\"simpletable\">\n",
       "<tr>\n",
       "        <td></td>           <th>coef</th>     <th>std err</th>      <th>z</th>      <th>P>|z|</th>  <th>[0.025</th>    <th>0.975]</th>  \n",
       "</tr>\n",
       "<tr>\n",
       "  <th>const</th>         <td>   61.5082</td> <td>   33.777</td> <td>    1.821</td> <td> 0.069</td> <td>   -4.694</td> <td>  127.710</td>\n",
       "</tr>\n",
       "<tr>\n",
       "  <th>ar.L1.D.Sales</th> <td>   -0.1806</td> <td>    0.135</td> <td>   -1.339</td> <td> 0.181</td> <td>   -0.445</td> <td>    0.084</td>\n",
       "</tr>\n",
       "<tr>\n",
       "  <th>ar.L2.D.Sales</th> <td>   -0.2311</td> <td>    0.141</td> <td>   -1.639</td> <td> 0.101</td> <td>   -0.507</td> <td>    0.045</td>\n",
       "</tr>\n",
       "<tr>\n",
       "  <th>ar.L3.D.Sales</th> <td>   -0.1456</td> <td>    0.150</td> <td>   -0.971</td> <td> 0.332</td> <td>   -0.440</td> <td>    0.148</td>\n",
       "</tr>\n",
       "<tr>\n",
       "  <th>ar.L4.D.Sales</th> <td>    0.7209</td> <td>    0.145</td> <td>    4.986</td> <td> 0.000</td> <td>    0.438</td> <td>    1.004</td>\n",
       "</tr>\n",
       "</table>\n",
       "<table class=\"simpletable\">\n",
       "<caption>Roots</caption>\n",
       "<tr>\n",
       "    <td></td>   <th>            Real</th>  <th>         Imaginary</th> <th>         Modulus</th>  <th>        Frequency</th>\n",
       "</tr>\n",
       "<tr>\n",
       "  <th>AR.1</th> <td>          -1.0558</td> <td>          -0.0000j</td> <td>           1.0558</td> <td>          -0.5000</td>\n",
       "</tr>\n",
       "<tr>\n",
       "  <th>AR.2</th> <td>          -0.0089</td> <td>          -1.0149j</td> <td>           1.0149</td> <td>          -0.2514</td>\n",
       "</tr>\n",
       "<tr>\n",
       "  <th>AR.3</th> <td>          -0.0089</td> <td>          +1.0149j</td> <td>           1.0149</td> <td>           0.2514</td>\n",
       "</tr>\n",
       "<tr>\n",
       "  <th>AR.4</th> <td>           1.2756</td> <td>          -0.0000j</td> <td>           1.2756</td> <td>          -0.0000</td>\n",
       "</tr>\n",
       "</table>"
      ],
      "text/plain": [
       "<class 'statsmodels.iolib.summary.Summary'>\n",
       "\"\"\"\n",
       "                             ARIMA Model Results                              \n",
       "==============================================================================\n",
       "Dep. Variable:                D.Sales   No. Observations:                   34\n",
       "Model:                 ARIMA(4, 1, 0)   Log Likelihood                -226.383\n",
       "Method:                       css-mle   S.D. of innovations            173.547\n",
       "Date:                Wed, 23 Feb 2022   AIC                            464.765\n",
       "Time:                        16:29:31   BIC                            473.923\n",
       "Sample:                             1   HQIC                           467.888\n",
       "                                                                              \n",
       "=================================================================================\n",
       "                    coef    std err          z      P>|z|      [0.025      0.975]\n",
       "---------------------------------------------------------------------------------\n",
       "const            61.5082     33.777      1.821      0.069      -4.694     127.710\n",
       "ar.L1.D.Sales    -0.1806      0.135     -1.339      0.181      -0.445       0.084\n",
       "ar.L2.D.Sales    -0.2311      0.141     -1.639      0.101      -0.507       0.045\n",
       "ar.L3.D.Sales    -0.1456      0.150     -0.971      0.332      -0.440       0.148\n",
       "ar.L4.D.Sales     0.7209      0.145      4.986      0.000       0.438       1.004\n",
       "                                    Roots                                    \n",
       "=============================================================================\n",
       "                  Real          Imaginary           Modulus         Frequency\n",
       "-----------------------------------------------------------------------------\n",
       "AR.1           -1.0558           -0.0000j            1.0558           -0.5000\n",
       "AR.2           -0.0089           -1.0149j            1.0149           -0.2514\n",
       "AR.3           -0.0089           +1.0149j            1.0149            0.2514\n",
       "AR.4            1.2756           -0.0000j            1.2756           -0.0000\n",
       "-----------------------------------------------------------------------------\n",
       "\"\"\""
      ]
     },
     "execution_count": 77,
     "metadata": {},
     "output_type": "execute_result"
    }
   ],
   "source": [
    "#Fitting a model\n",
    "from statsmodels.tsa.arima_model import ARIMA\n",
    "\n",
    "model_arima = ARIMA(train['Sales'],order=(4,1,0))\n",
    "results = model_arima.fit()\n",
    "results.summary()"
   ]
  },
  {
   "cell_type": "code",
   "execution_count": 78,
   "id": "1335a443",
   "metadata": {
    "ExecuteTime": {
     "end_time": "2022-02-23T10:59:31.738321Z",
     "start_time": "2022-02-23T10:59:31.727412Z"
    }
   },
   "outputs": [],
   "source": [
    "pred_arima = results.predict(start=35, end=len(data4)-1, dynamic=False, typ='levels')"
   ]
  },
  {
   "cell_type": "code",
   "execution_count": 79,
   "id": "77d31edf",
   "metadata": {
    "ExecuteTime": {
     "end_time": "2022-02-23T10:59:31.946183Z",
     "start_time": "2022-02-23T10:59:31.938207Z"
    }
   },
   "outputs": [
    {
     "data": {
      "text/plain": [
       "134.33896867342915"
      ]
     },
     "execution_count": 79,
     "metadata": {},
     "output_type": "execute_result"
    }
   ],
   "source": [
    "#RMSE score of ARIMA\n",
    "rmse_arima= mean_squared_error(test.Sales,pred_arima, squared=False)\n",
    "rmse_arima #This value is okay but we will not use it sine we have much better models"
   ]
  },
  {
   "cell_type": "markdown",
   "id": "dcff9cea",
   "metadata": {},
   "source": [
    "## Evaluate and Compare Performance\n",
    "- Best model we have got so far is the Huber Regressor from PyCaret\n",
    "- We will build our final model based on this one"
   ]
  },
  {
   "cell_type": "markdown",
   "id": "0715fa5b",
   "metadata": {},
   "source": [
    "## Implementing Forecasting Model"
   ]
  },
  {
   "cell_type": "code",
   "execution_count": 80,
   "id": "87a80645",
   "metadata": {
    "ExecuteTime": {
     "end_time": "2022-02-23T10:59:32.911082Z",
     "start_time": "2022-02-23T10:59:32.763746Z"
    }
   },
   "outputs": [
    {
     "data": {
      "text/plain": [
       "163.4912064995847"
      ]
     },
     "execution_count": 80,
     "metadata": {},
     "output_type": "execute_result"
    }
   ],
   "source": [
    "#Holts winter exponential smoothing with multiplicative seasonality and additive trend\n",
    "final_model = ExponentialSmoothing(data_fnl[\"Sales\"],seasonal=\"mul\",trend=\"add\",seasonal_periods=12).fit() \n",
    "pred_final = final_model.predict(start = data.index[0],end = data.index[-1])\n",
    "\n",
    "#Getting RMSE Score\n",
    "rmse_final = mean_squared_error(data.Sales,pred_final, squared=False)\n",
    "rmse_final #This score is good"
   ]
  },
  {
   "cell_type": "code",
   "execution_count": 81,
   "id": "e3ab1d3d",
   "metadata": {
    "ExecuteTime": {
     "end_time": "2022-02-23T10:59:32.943070Z",
     "start_time": "2022-02-23T10:59:32.919057Z"
    }
   },
   "outputs": [
    {
     "data": {
      "text/html": [
       "<div>\n",
       "<style scoped>\n",
       "    .dataframe tbody tr th:only-of-type {\n",
       "        vertical-align: middle;\n",
       "    }\n",
       "\n",
       "    .dataframe tbody tr th {\n",
       "        vertical-align: top;\n",
       "    }\n",
       "\n",
       "    .dataframe thead th {\n",
       "        text-align: right;\n",
       "    }\n",
       "</style>\n",
       "<table border=\"1\" class=\"dataframe\">\n",
       "  <thead>\n",
       "    <tr style=\"text-align: right;\">\n",
       "      <th></th>\n",
       "      <th>t</th>\n",
       "      <th>years</th>\n",
       "      <th>quarters</th>\n",
       "      <th>Sales</th>\n",
       "    </tr>\n",
       "  </thead>\n",
       "  <tbody>\n",
       "    <tr>\n",
       "      <th>0</th>\n",
       "      <td>1</td>\n",
       "      <td>86</td>\n",
       "      <td>Q1</td>\n",
       "      <td>1734.827000</td>\n",
       "    </tr>\n",
       "    <tr>\n",
       "      <th>1</th>\n",
       "      <td>2</td>\n",
       "      <td>86</td>\n",
       "      <td>Q2</td>\n",
       "      <td>2244.960999</td>\n",
       "    </tr>\n",
       "    <tr>\n",
       "      <th>2</th>\n",
       "      <td>3</td>\n",
       "      <td>86</td>\n",
       "      <td>Q3</td>\n",
       "      <td>2533.804993</td>\n",
       "    </tr>\n",
       "    <tr>\n",
       "      <th>3</th>\n",
       "      <td>4</td>\n",
       "      <td>86</td>\n",
       "      <td>Q4</td>\n",
       "      <td>2154.962997</td>\n",
       "    </tr>\n",
       "    <tr>\n",
       "      <th>4</th>\n",
       "      <td>5</td>\n",
       "      <td>87</td>\n",
       "      <td>Q1</td>\n",
       "      <td>1547.818996</td>\n",
       "    </tr>\n",
       "  </tbody>\n",
       "</table>\n",
       "</div>"
      ],
      "text/plain": [
       "   t years quarters        Sales\n",
       "0  1    86       Q1  1734.827000\n",
       "1  2    86       Q2  2244.960999\n",
       "2  3    86       Q3  2533.804993\n",
       "3  4    86       Q4  2154.962997\n",
       "4  5    87       Q1  1547.818996"
      ]
     },
     "execution_count": 81,
     "metadata": {},
     "output_type": "execute_result"
    }
   ],
   "source": [
    "data_fnl.head()"
   ]
  },
  {
   "cell_type": "code",
   "execution_count": 82,
   "id": "789770c5",
   "metadata": {
    "ExecuteTime": {
     "end_time": "2022-02-23T10:59:33.114593Z",
     "start_time": "2022-02-23T10:59:33.082612Z"
    },
    "scrolled": false
   },
   "outputs": [
    {
     "data": {
      "text/html": [
       "<div>\n",
       "<style scoped>\n",
       "    .dataframe tbody tr th:only-of-type {\n",
       "        vertical-align: middle;\n",
       "    }\n",
       "\n",
       "    .dataframe tbody tr th {\n",
       "        vertical-align: top;\n",
       "    }\n",
       "\n",
       "    .dataframe thead th {\n",
       "        text-align: right;\n",
       "    }\n",
       "</style>\n",
       "<table border=\"1\" class=\"dataframe\">\n",
       "  <thead>\n",
       "    <tr style=\"text-align: right;\">\n",
       "      <th></th>\n",
       "      <th>t</th>\n",
       "      <th>years</th>\n",
       "      <th>quarters</th>\n",
       "      <th>Sales</th>\n",
       "      <th>final_pred</th>\n",
       "    </tr>\n",
       "  </thead>\n",
       "  <tbody>\n",
       "    <tr>\n",
       "      <th>0</th>\n",
       "      <td>1</td>\n",
       "      <td>86</td>\n",
       "      <td>Q1</td>\n",
       "      <td>1734.827000</td>\n",
       "      <td>1883.955257</td>\n",
       "    </tr>\n",
       "    <tr>\n",
       "      <th>1</th>\n",
       "      <td>2</td>\n",
       "      <td>86</td>\n",
       "      <td>Q2</td>\n",
       "      <td>2244.960999</td>\n",
       "      <td>2234.594726</td>\n",
       "    </tr>\n",
       "    <tr>\n",
       "      <th>2</th>\n",
       "      <td>3</td>\n",
       "      <td>86</td>\n",
       "      <td>Q3</td>\n",
       "      <td>2533.804993</td>\n",
       "      <td>2556.509808</td>\n",
       "    </tr>\n",
       "    <tr>\n",
       "      <th>3</th>\n",
       "      <td>4</td>\n",
       "      <td>86</td>\n",
       "      <td>Q4</td>\n",
       "      <td>2154.962997</td>\n",
       "      <td>2207.703611</td>\n",
       "    </tr>\n",
       "    <tr>\n",
       "      <th>4</th>\n",
       "      <td>5</td>\n",
       "      <td>87</td>\n",
       "      <td>Q1</td>\n",
       "      <td>1547.818996</td>\n",
       "      <td>1784.288371</td>\n",
       "    </tr>\n",
       "  </tbody>\n",
       "</table>\n",
       "</div>"
      ],
      "text/plain": [
       "   t years quarters        Sales   final_pred\n",
       "0  1    86       Q1  1734.827000  1883.955257\n",
       "1  2    86       Q2  2244.960999  2234.594726\n",
       "2  3    86       Q3  2533.804993  2556.509808\n",
       "3  4    86       Q4  2154.962997  2207.703611\n",
       "4  5    87       Q1  1547.818996  1784.288371"
      ]
     },
     "execution_count": 82,
     "metadata": {},
     "output_type": "execute_result"
    }
   ],
   "source": [
    "data_fnl['final_pred']=pred_final\n",
    "data_fnl.head()"
   ]
  },
  {
   "cell_type": "code",
   "execution_count": 83,
   "id": "73c1b827",
   "metadata": {
    "ExecuteTime": {
     "end_time": "2022-02-23T10:59:33.250471Z",
     "start_time": "2022-02-23T10:59:33.234511Z"
    }
   },
   "outputs": [
    {
     "data": {
      "text/html": [
       "<div>\n",
       "<style scoped>\n",
       "    .dataframe tbody tr th:only-of-type {\n",
       "        vertical-align: middle;\n",
       "    }\n",
       "\n",
       "    .dataframe tbody tr th {\n",
       "        vertical-align: top;\n",
       "    }\n",
       "\n",
       "    .dataframe thead th {\n",
       "        text-align: right;\n",
       "    }\n",
       "</style>\n",
       "<table border=\"1\" class=\"dataframe\">\n",
       "  <thead>\n",
       "    <tr style=\"text-align: right;\">\n",
       "      <th></th>\n",
       "      <th>t</th>\n",
       "      <th>years</th>\n",
       "      <th>quarters</th>\n",
       "      <th>Sales</th>\n",
       "      <th>final_pred</th>\n",
       "      <th>Date</th>\n",
       "    </tr>\n",
       "  </thead>\n",
       "  <tbody>\n",
       "    <tr>\n",
       "      <th>0</th>\n",
       "      <td>1</td>\n",
       "      <td>86</td>\n",
       "      <td>Q1</td>\n",
       "      <td>1734.827000</td>\n",
       "      <td>1883.955257</td>\n",
       "      <td>1986-03-31</td>\n",
       "    </tr>\n",
       "    <tr>\n",
       "      <th>1</th>\n",
       "      <td>2</td>\n",
       "      <td>86</td>\n",
       "      <td>Q2</td>\n",
       "      <td>2244.960999</td>\n",
       "      <td>2234.594726</td>\n",
       "      <td>1986-06-30</td>\n",
       "    </tr>\n",
       "    <tr>\n",
       "      <th>2</th>\n",
       "      <td>3</td>\n",
       "      <td>86</td>\n",
       "      <td>Q3</td>\n",
       "      <td>2533.804993</td>\n",
       "      <td>2556.509808</td>\n",
       "      <td>1986-09-30</td>\n",
       "    </tr>\n",
       "    <tr>\n",
       "      <th>3</th>\n",
       "      <td>4</td>\n",
       "      <td>86</td>\n",
       "      <td>Q4</td>\n",
       "      <td>2154.962997</td>\n",
       "      <td>2207.703611</td>\n",
       "      <td>1986-12-31</td>\n",
       "    </tr>\n",
       "    <tr>\n",
       "      <th>4</th>\n",
       "      <td>5</td>\n",
       "      <td>87</td>\n",
       "      <td>Q1</td>\n",
       "      <td>1547.818996</td>\n",
       "      <td>1784.288371</td>\n",
       "      <td>1987-03-31</td>\n",
       "    </tr>\n",
       "  </tbody>\n",
       "</table>\n",
       "</div>"
      ],
      "text/plain": [
       "   t years quarters        Sales   final_pred       Date\n",
       "0  1    86       Q1  1734.827000  1883.955257 1986-03-31\n",
       "1  2    86       Q2  2244.960999  2234.594726 1986-06-30\n",
       "2  3    86       Q3  2533.804993  2556.509808 1986-09-30\n",
       "3  4    86       Q4  2154.962997  2207.703611 1986-12-31\n",
       "4  5    87       Q1  1547.818996  1784.288371 1987-03-31"
      ]
     },
     "execution_count": 83,
     "metadata": {},
     "output_type": "execute_result"
    }
   ],
   "source": [
    "data_fnl['Date'] = pd.date_range(start='1986-01-01', end = '1996-07-01', freq = 'Q')\n",
    "data_fnl.head()"
   ]
  },
  {
   "cell_type": "code",
   "execution_count": 84,
   "id": "513c34aa",
   "metadata": {
    "ExecuteTime": {
     "end_time": "2022-02-23T10:59:33.988923Z",
     "start_time": "2022-02-23T10:59:33.768262Z"
    },
    "scrolled": false
   },
   "outputs": [
    {
     "data": {
      "text/plain": [
       "<AxesSubplot:xlabel='Date', ylabel='Value'>"
      ]
     },
     "execution_count": 84,
     "metadata": {},
     "output_type": "execute_result"
    },
    {
     "data": {
      "image/png": "[encoded data removed]",
      "text/plain": [
       "<Figure size 576x396 with 1 Axes>"
      ]
     },
     "metadata": {},
     "output_type": "display_data"
    }
   ],
   "source": [
    "# line plot - View for the entire dataset FInal Model\n",
    "viz8 = data_fnl.loc[:,[\"Date\",\"Sales\",\"final_pred\"]].melt(\"Date\",var_name=\"predV/sTrue\",value_name=\"Value\")\n",
    "sns.lineplot(data=viz8, x=viz8.Date, y=viz8.Value,hue=\"predV/sTrue\",palette=[\"deeppink\",\"lime\"])\n",
    "#Good model but since we have limited dataset, values are less to improve accuracy"
   ]
  },
  {
   "cell_type": "code",
   "execution_count": 85,
   "id": "12952a3b",
   "metadata": {
    "ExecuteTime": {
     "end_time": "2022-02-23T10:59:34.084860Z",
     "start_time": "2022-02-23T10:59:34.068870Z"
    },
    "scrolled": true
   },
   "outputs": [
    {
     "data": {
      "text/html": [
       "<div>\n",
       "<style scoped>\n",
       "    .dataframe tbody tr th:only-of-type {\n",
       "        vertical-align: middle;\n",
       "    }\n",
       "\n",
       "    .dataframe tbody tr th {\n",
       "        vertical-align: top;\n",
       "    }\n",
       "\n",
       "    .dataframe thead th {\n",
       "        text-align: right;\n",
       "    }\n",
       "</style>\n",
       "<table border=\"1\" class=\"dataframe\">\n",
       "  <thead>\n",
       "    <tr style=\"text-align: right;\">\n",
       "      <th></th>\n",
       "      <th>t</th>\n",
       "      <th>Forecast</th>\n",
       "    </tr>\n",
       "  </thead>\n",
       "  <tbody>\n",
       "    <tr>\n",
       "      <th>0</th>\n",
       "      <td>42</td>\n",
       "      <td>4921.534739</td>\n",
       "    </tr>\n",
       "    <tr>\n",
       "      <th>1</th>\n",
       "      <td>43</td>\n",
       "      <td>4588.042958</td>\n",
       "    </tr>\n",
       "    <tr>\n",
       "      <th>2</th>\n",
       "      <td>44</td>\n",
       "      <td>4532.469221</td>\n",
       "    </tr>\n",
       "    <tr>\n",
       "      <th>3</th>\n",
       "      <td>45</td>\n",
       "      <td>5757.270945</td>\n",
       "    </tr>\n",
       "    <tr>\n",
       "      <th>4</th>\n",
       "      <td>46</td>\n",
       "      <td>5816.228492</td>\n",
       "    </tr>\n",
       "  </tbody>\n",
       "</table>\n",
       "</div>"
      ],
      "text/plain": [
       "    t     Forecast\n",
       "0  42  4921.534739\n",
       "1  43  4588.042958\n",
       "2  44  4532.469221\n",
       "3  45  5757.270945\n",
       "4  46  5816.228492"
      ]
     },
     "execution_count": 85,
     "metadata": {},
     "output_type": "execute_result"
    }
   ],
   "source": [
    "#Forecasting the future\n",
    "future = pd.DataFrame(final_model.forecast(8)).reset_index()\n",
    "future.rename(columns={'index':'t',0:'Forecast'},inplace=True)\n",
    "future.head()"
   ]
  },
  {
   "cell_type": "code",
   "execution_count": 86,
   "id": "9dbef9c3",
   "metadata": {
    "ExecuteTime": {
     "end_time": "2022-02-23T10:59:34.442425Z",
     "start_time": "2022-02-23T10:59:34.418428Z"
    },
    "scrolled": true
   },
   "outputs": [
    {
     "name": "stdout",
     "output_type": "stream",
     "text": [
      "<class 'pandas.core.frame.DataFrame'>\n",
      "Int64Index: 50 entries, 0 to 7\n",
      "Data columns (total 7 columns):\n",
      " #   Column      Non-Null Count  Dtype         \n",
      "---  ------      --------------  -----         \n",
      " 0   t           50 non-null     int64         \n",
      " 1   years       42 non-null     object        \n",
      " 2   quarters    42 non-null     object        \n",
      " 3   Sales       42 non-null     float64       \n",
      " 4   final_pred  42 non-null     float64       \n",
      " 5   Date        50 non-null     datetime64[ns]\n",
      " 6   Forecast    8 non-null      float64       \n",
      "dtypes: datetime64[ns](1), float64(3), int64(1), object(2)\n",
      "memory usage: 3.1+ KB\n"
     ]
    }
   ],
   "source": [
    "#Creating Forecast dataset\n",
    "forecast_df= pd.concat([data_fnl,future], axis=0)\n",
    "forecast_df.drop('Date',axis=1)\n",
    "forecast_df['Date']=pd.date_range(start='1986-01-01', end = '1998-09-01', freq = 'Q')\n",
    "forecast_df.info()"
   ]
  },
  {
   "cell_type": "code",
   "execution_count": 87,
   "id": "c70a0df1",
   "metadata": {
    "ExecuteTime": {
     "end_time": "2022-02-23T10:59:34.858893Z",
     "start_time": "2022-02-23T10:59:34.586608Z"
    }
   },
   "outputs": [
    {
     "data": {
      "text/plain": [
       "<AxesSubplot:xlabel='Date', ylabel='Value'>"
      ]
     },
     "execution_count": 87,
     "metadata": {},
     "output_type": "execute_result"
    },
    {
     "data": {
      "image/png": "[encoded data removed]",
      "text/plain": [
       "<Figure size 576x396 with 1 Axes>"
      ]
     },
     "metadata": {},
     "output_type": "display_data"
    }
   ],
   "source": [
    "#Future Forecast\n",
    "\n",
    "viz9 = forecast_df.loc[:,[\"Date\",\"Sales\",\"Forecast\"]].melt(\"Date\",var_name=\"predV/sTrue\",value_name=\"Value\")\n",
    "sns.lineplot(data=viz9, x=viz9.Date, y=viz9.Value,hue=\"predV/sTrue\",palette=[\"deeppink\",\"lime\"])\n",
    "#Best internal forecast so far"
   ]
  },
  {
   "cell_type": "markdown",
   "id": "2ef59304",
   "metadata": {},
   "source": [
    "## Conclusion\n",
    "- We have explored all the possible forecasting techniques.\n",
    "- We have built our final model from HWE Multiplicative Seasonality and Additive Trend\n",
    "- Forecasting for eight quarters has been plotted.\n",
    "- If RMSE was not the metric of usage, We could have gone for Gradient Boosting in PyCaret"
   ]
  }
 ],
 "metadata": {
  "kernelspec": {
   "display_name": "Python 3 (ipykernel)",
   "language": "python",
   "name": "python3"
  },
  "language_info": {
   "codemirror_mode": {
    "name": "ipython",
    "version": 3
   },
   "file_extension": ".py",
   "mimetype": "text/x-python",
   "name": "python",
   "nbconvert_exporter": "python",
   "pygments_lexer": "ipython3",
   "version": "3.8.8"
  }
 },
 "nbformat": 4,
 "nbformat_minor": 5
}
